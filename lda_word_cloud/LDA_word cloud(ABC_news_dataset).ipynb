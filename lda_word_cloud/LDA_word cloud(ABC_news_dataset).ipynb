{
 "cells": [
  {
   "cell_type": "code",
   "execution_count": 73,
   "metadata": {
    "collapsed": true
   },
   "outputs": [],
   "source": [
    "import pandas as pd\n",
    "import gensim\n",
    "import re\n",
    "import pyLDAvis.sklearn\n",
    "import pyLDAvis.gensim\n",
    "from gensim.models import LdaModel , LdaMulticore,LsiModel\n",
    "from gensim import corpora\n",
    "from gensim.utils import simple_preprocess, lemmatize\n",
    "import nltk\n",
    "from nltk.corpus import stopwords\n",
    "import matplotlib.pyplot as plt\n",
    "from wordcloud import WordCloud"
   ]
  },
  {
   "cell_type": "code",
   "execution_count": 74,
   "metadata": {
    "collapsed": true
   },
   "outputs": [],
   "source": [
    "stop_words = stopwords.words('english')\n",
    "stop_words = stop_words +['new','man','nsw','act','big','back','hope','call','vic','low','high','out','orkopolouse']"
   ]
  },
  {
   "cell_type": "code",
   "execution_count": 75,
   "metadata": {
    "collapsed": true
   },
   "outputs": [],
   "source": [
    "data = pd.read_csv('abcnews-date-text.csv', error_bad_lines=False);"
   ]
  },
  {
   "cell_type": "code",
   "execution_count": 76,
   "metadata": {},
   "outputs": [
    {
     "data": {
      "text/plain": [
       "0          aba decides against community broadcasting lic...\n",
       "1             act fire witnesses must be aware of defamation\n",
       "2             a g calls for infrastructure protection summit\n",
       "3                   air nz staff in aust strike for pay rise\n",
       "4              air nz strike to affect australian travellers\n",
       "5                          ambitious olsson wins triple jump\n",
       "6                 antic delighted with record breaking barca\n",
       "7          aussie qualifier stosur wastes four memphis match\n",
       "8               aust addresses un security council over iraq\n",
       "9                 australia is locked into war timetable opp\n",
       "10         australia to contribute 10 million in aid to iraq\n",
       "11         barca take record as robson celebrates birthda...\n",
       "12                                bathhouse plans move ahead\n",
       "13             big hopes for launceston cycling championship\n",
       "14                    big plan to boost paroo water supplies\n",
       "15                    blizzard buries united states in bills\n",
       "16            brigadier dismisses reports troops harassed in\n",
       "17            british combat troops arriving daily in kuwait\n",
       "18                bryant leads lakers to double overtime win\n",
       "19                  bushfire victims urged to see centrelink\n",
       "20           businesses should prepare for terrorist attacks\n",
       "21           calleri avenges final defeat to eliminate massu\n",
       "22                   call for ethanol blend fuel to go ahead\n",
       "23                    carews freak goal leaves roma in ruins\n",
       "24                              cemeteries miss out on funds\n",
       "25         code of conduct toughens organ donation regula...\n",
       "26              commonwealth bank cuts fixed home loan rates\n",
       "27                    community urged to help homeless youth\n",
       "28          council chief executive fails to secure position\n",
       "29           councillor to contest wollongong as independent\n",
       "                                 ...                        \n",
       "1103635          nepal bans solo climbers from mount everest\n",
       "1103636       new years eve 2018 celebrated around australia\n",
       "1103637    new years eve australia prepares to bring in 2018\n",
       "1103638          new years eve celebrations around the world\n",
       "1103639    new years texting data load to surge as clock ...\n",
       "1103640       north korea leader kim jong un watches concert\n",
       "1103641     now its real tourists converge on sydney harbour\n",
       "1103642    nye guide for sydney best venues public transp...\n",
       "1103643      police confirm deaths of six people in seaplane\n",
       "1103644    police officer brett forte; killed in a shooti...\n",
       "1103645       p plate driver caught 100 kph over speed limit\n",
       "1103646           protesters throw rocks at police in tehran\n",
       "1103647            remembering australian lives lost in 2017\n",
       "1103648    remount horsemanship helping veterans through ...\n",
       "1103649    roger federer rivals battling injury ahead aus...\n",
       "1103650    russian tankers fuelled north korea via transf...\n",
       "1103651    sa transport department defends major intersec...\n",
       "1103652    sea plane has crashed into the hawkesbury rive...\n",
       "1103653    search for survivors in hawkesbury sea plane c...\n",
       "1103654    second sexual assault reported at falls festiv...\n",
       "1103655    severe storms forecast for nye in south east q...\n",
       "1103656    snake catcher pleads for people not to kill re...\n",
       "1103657    south australia prepares for party to welcome ...\n",
       "1103658    strikers cool off the heat with big win in ade...\n",
       "1103659      stunning images from the sydney to hobart yacht\n",
       "1103660    the ashes smiths warners near miss liven up bo...\n",
       "1103661              timelapse: brisbanes new year fireworks\n",
       "1103662             what 2017 meant to the kids of australia\n",
       "1103663     what the papodopoulos meeting may mean for ausus\n",
       "1103664    who is george papadopoulos the former trump ca...\n",
       "Name: headline_text, Length: 1103665, dtype: object"
      ]
     },
     "execution_count": 76,
     "metadata": {},
     "output_type": "execute_result"
    }
   ],
   "source": [
    "data['headline_text']"
   ]
  },
  {
   "cell_type": "code",
   "execution_count": 77,
   "metadata": {
    "collapsed": true
   },
   "outputs": [],
   "source": [
    "data_text = data[['headline_text']]\n",
    "data_text['index'] = data_text.index\n",
    "documents = data_text"
   ]
  },
  {
   "cell_type": "code",
   "execution_count": 78,
   "metadata": {},
   "outputs": [
    {
     "data": {
      "text/plain": [
       "0     aba decides against community broadcasting lic...\n",
       "1        act fire witnesses must be aware of defamation\n",
       "2        a g calls for infrastructure protection summit\n",
       "3              air nz staff in aust strike for pay rise\n",
       "4         air nz strike to affect australian travellers\n",
       "5                     ambitious olsson wins triple jump\n",
       "6            antic delighted with record breaking barca\n",
       "7     aussie qualifier stosur wastes four memphis match\n",
       "8          aust addresses un security council over iraq\n",
       "9            australia is locked into war timetable opp\n",
       "10    australia to contribute 10 million in aid to iraq\n",
       "11    barca take record as robson celebrates birthda...\n",
       "12                           bathhouse plans move ahead\n",
       "13        big hopes for launceston cycling championship\n",
       "14               big plan to boost paroo water supplies\n",
       "15               blizzard buries united states in bills\n",
       "16       brigadier dismisses reports troops harassed in\n",
       "17       british combat troops arriving daily in kuwait\n",
       "18           bryant leads lakers to double overtime win\n",
       "19             bushfire victims urged to see centrelink\n",
       "20      businesses should prepare for terrorist attacks\n",
       "21      calleri avenges final defeat to eliminate massu\n",
       "22              call for ethanol blend fuel to go ahead\n",
       "23               carews freak goal leaves roma in ruins\n",
       "24                         cemeteries miss out on funds\n",
       "25    code of conduct toughens organ donation regula...\n",
       "26         commonwealth bank cuts fixed home loan rates\n",
       "27               community urged to help homeless youth\n",
       "28     council chief executive fails to secure position\n",
       "29      councillor to contest wollongong as independent\n",
       "                            ...                        \n",
       "70              heavy metal deposits survey nearing end\n",
       "71          injured rios pulls out of buenos aires open\n",
       "72                  inquest finds mans death accidental\n",
       "73    investigations underway into death toll of korean\n",
       "74       investigation underway into elster creek spill\n",
       "75    iraqs neighbours plead for continued un inspec...\n",
       "76           iraq to pay for own rebuilding white house\n",
       "77                irish man arrested over omagh bombing\n",
       "78                irrigators vote over river management\n",
       "79                  israeli forces push into gaza strip\n",
       "80              jury to consider verdict in murder case\n",
       "81       juvenile sex offenders unlikely to reoffend as\n",
       "82          kelly disgusted at alleged bp ethanol scare\n",
       "83           kelly not surprised ethanol confidence low\n",
       "84                 korean subway fire 314 still missing\n",
       "85              last minute call hands alinghi big lead\n",
       "86                   low demand forces air service cuts\n",
       "87        man arrested after central qld hijack attempt\n",
       "88                        man charged over cooma murder\n",
       "89         man fined after aboriginal tent embassy raid\n",
       "90                           man jailed over keno fraud\n",
       "91                   man with knife hijacks light plane\n",
       "92        martin to lobby against losing nt seat in fed\n",
       "93          massive drug crop discovered in western nsw\n",
       "94                      mayor warns landfill protesters\n",
       "95             meeting to consider tick clearance costs\n",
       "96           meeting to focus on broken hill water woes\n",
       "97                        moderate lift in wages growth\n",
       "98        more than 40 pc of young men drink alcohol at\n",
       "99    more water restrictions predicted for northern...\n",
       "Name: headline_text, Length: 100, dtype: object"
      ]
     },
     "execution_count": 78,
     "metadata": {},
     "output_type": "execute_result"
    }
   ],
   "source": [
    "data_text['headline_text'][0:100]"
   ]
  },
  {
   "cell_type": "code",
   "execution_count": 79,
   "metadata": {
    "collapsed": true
   },
   "outputs": [],
   "source": [
    "data_processed=[]\n",
    "for c in range(0,800000):\n",
    "    doc=data_text['headline_text'][c].split()\n",
    "    doc_out=[]\n",
    "    for x in doc:\n",
    "        if x not in stop_words:\n",
    "            lemma = lemmatize(x,allowed_tags=re.compile('(NN)'))\n",
    "            if lemma:\n",
    "                doc_out = doc_out + [lemma[0].split(b'/')[0].decode('utf-8')]\n",
    "        else:\n",
    "            continue\n",
    "    data_processed.append(doc_out)\n"
   ]
  },
  {
   "cell_type": "code",
   "execution_count": 80,
   "metadata": {
    "collapsed": true
   },
   "outputs": [],
   "source": [
    "## making a dictionary\n",
    "dct = corpora.Dictionary(data_processed)\n",
    "corpus = [dct.doc2bow(line) for line in data_processed]\n",
    "# dct = corpora.Dictionary(data_processed1)\n",
    "# corpus = [dct.doc2bow(line) for line in data_pr]"
   ]
  },
  {
   "cell_type": "code",
   "execution_count": 81,
   "metadata": {
    "collapsed": true
   },
   "outputs": [],
   "source": [
    "lda_model = LdaModel(corpus=corpus,id2word=dct,random_state=100,num_topics=7,passes=10,chunksize=1000,alpha='asymmetric',\n",
    "                         decay=0.5,offset=64,eta=None,eval_every=0,iterations=100,gamma_threshold=0.001,per_word_topics=True)\n"
   ]
  },
  {
   "cell_type": "code",
   "execution_count": 82,
   "metadata": {
    "scrolled": true
   },
   "outputs": [
    {
     "data": {
      "text/plain": [
       "[(0,\n",
       "  '0.025*\"interview\" + 0.010*\"report\" + 0.010*\"business\" + 0.009*\"cut\" + 0.009*\"budget\" + 0.009*\"polouse\" + 0.009*\"crash\" + 0.008*\"weather\" + 0.008*\"day\" + 0.008*\"funding\"'),\n",
       " (1,\n",
       "  '0.026*\"market\" + 0.020*\"farmer\" + 0.018*\"water\" + 0.015*\"plan\" + 0.015*\"change\" + 0.014*\"council\" + 0.013*\"fear\" + 0.011*\"industry\" + 0.011*\"gillard\" + 0.011*\"share\"'),\n",
       " (2,\n",
       "  '0.031*\"polouse\" + 0.020*\"fire\" + 0.020*\"hit\" + 0.019*\"flood\" + 0.018*\"price\" + 0.017*\"attack\" + 0.014*\"sport\" + 0.013*\"house\" + 0.011*\"probe\" + 0.011*\"west\"'),\n",
       " (3,\n",
       "  '0.037*\"court\" + 0.029*\"woman\" + 0.028*\"death\" + 0.022*\"murder\" + 0.020*\"child\" + 0.017*\"rate\" + 0.017*\"trial\" + 0.016*\"case\" + 0.016*\"hill\" + 0.013*\"sex\"'),\n",
       " (4,\n",
       "  '0.031*\"news\" + 0.026*\"health\" + 0.025*\"minister\" + 0.024*\"sydney\" + 0.023*\"drug\" + 0.018*\"labor\" + 0.015*\"fight\" + 0.014*\"top\" + 0.012*\"end\" + 0.012*\"housing\"'),\n",
       " (5,\n",
       "  '0.042*\"australia\" + 0.017*\"state\" + 0.015*\"warning\" + 0.014*\"sale\" + 0.014*\"canberra\" + 0.014*\"medium\" + 0.013*\"grandstand\" + 0.012*\"appeal\" + 0.012*\"win\" + 0.012*\"gas\"'),\n",
       " (6,\n",
       "  '0.032*\"government\" + 0.024*\"set\" + 0.016*\"hunter\" + 0.015*\"grower\" + 0.015*\"world\" + 0.015*\"food\" + 0.014*\"abuse\" + 0.013*\"record\" + 0.011*\"bid\" + 0.011*\"cup\"')]"
      ]
     },
     "execution_count": 82,
     "metadata": {},
     "output_type": "execute_result"
    }
   ],
   "source": [
    "lda_model.print_topics(-1)"
   ]
  },
  {
   "cell_type": "code",
   "execution_count": null,
   "metadata": {
    "collapsed": true
   },
   "outputs": [],
   "source": [
    "for t in range(lda_model.num_topics):\n",
    "    plt.figure()\n",
    "    plt.imshow(WordCloud().fit_words(dict(lda_model.show_topic(t, 200))))\n",
    "    plt.axis(\"off\")\n",
    "    plt.title(\"Topic #\" + str(t))\n",
    "    plt.show()"
   ]
  },
  {
   "cell_type": "code",
   "execution_count": 83,
   "metadata": {
    "collapsed": true
   },
   "outputs": [],
   "source": [
    "lsi_model = LsiModel(corpus=corpus, id2word=dct, num_topics=7, decay=0.5)"
   ]
  },
  {
   "cell_type": "code",
   "execution_count": 84,
   "metadata": {},
   "outputs": [
    {
     "data": {
      "text/plain": [
       "[(0,\n",
       "  '-0.959*\"polouse\" + -0.094*\"interview\" + -0.075*\"death\" + -0.068*\"car\" + -0.066*\"woman\" + -0.059*\"crash\" + -0.057*\"officer\" + -0.055*\"search\" + -0.052*\"fire\" + -0.050*\"court\"'),\n",
       " (1,\n",
       "  '-0.989*\"interview\" + 0.092*\"polouse\" + -0.043*\"michael\" + -0.028*\"belinda\" + -0.028*\"varischettus\" + -0.024*\"john\" + -0.022*\"scott\" + -0.020*\"ben\" + -0.019*\"matthew\" + -0.017*\"anthony\"'),\n",
       " (2,\n",
       "  '0.603*\"market\" + 0.445*\"business\" + 0.314*\"news\" + 0.272*\"council\" + 0.246*\"analysis\" + 0.212*\"plan\" + 0.150*\"budget\" + 0.131*\"qld\" + 0.118*\"share\" + 0.086*\"cut\"'),\n",
       " (3,\n",
       "  '0.535*\"council\" + 0.437*\"plan\" + -0.357*\"market\" + -0.232*\"business\" + 0.231*\"qld\" + 0.209*\"budget\" + -0.190*\"news\" + -0.145*\"analysis\" + 0.126*\"cut\" + 0.110*\"government\"'),\n",
       " (4,\n",
       "  '-0.575*\"budget\" + -0.557*\"qld\" + 0.461*\"council\" + 0.237*\"plan\" + -0.149*\"government\" + -0.128*\"cut\" + -0.070*\"funding\" + -0.057*\"state\" + -0.055*\"health\" + 0.044*\"market\"'),\n",
       " (5,\n",
       "  '-0.663*\"budget\" + 0.514*\"qld\" + -0.312*\"council\" + 0.300*\"plan\" + 0.128*\"court\" + -0.105*\"cut\" + 0.104*\"government\" + -0.069*\"rate\" + 0.063*\"death\" + 0.063*\"australia\"'),\n",
       " (6,\n",
       "  '-0.500*\"council\" + 0.491*\"plan\" + -0.484*\"qld\" + 0.294*\"court\" + 0.198*\"budget\" + 0.138*\"fire\" + 0.113*\"australia\" + 0.110*\"cut\" + 0.087*\"woman\" + 0.077*\"death\"')]"
      ]
     },
     "execution_count": 84,
     "metadata": {},
     "output_type": "execute_result"
    }
   ],
   "source": [
    "lsi_model.print_topics(-1)"
   ]
  },
  {
   "cell_type": "code",
   "execution_count": null,
   "metadata": {
    "collapsed": true
   },
   "outputs": [],
   "source": [
    "for t in range(lsi_model.num_topics):\n",
    "    plt.figure(figsize=(20,10), facecolor='k')\n",
    "    cloud = WordCloud(width=400,height=300,background_color='White')\n",
    "    plt.imshow(cloud.fit_words(dict(lsi_model.show_topic(t, 200))),interpolation=\"bilinear\")\n",
    "    plt.axis(\"off\")\n",
    "    cloud.to_file(\"topic_%s.png\" %str(t))\n",
    "    plt.title(\"Topic --> \" + str(t))\n",
    "    plt.show()"
   ]
  }
 ],
 "metadata": {
  "kernelspec": {
   "display_name": "Python 3",
   "language": "python",
   "name": "python3"
  },
  "language_info": {
   "codemirror_mode": {
    "name": "ipython",
    "version": 3
   },
   "file_extension": ".py",
   "mimetype": "text/x-python",
   "name": "python",
   "nbconvert_exporter": "python",
   "pygments_lexer": "ipython3",
   "version": "3.6.3"
  }
 },
 "nbformat": 4,
 "nbformat_minor": 2
}
