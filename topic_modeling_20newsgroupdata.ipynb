{
 "cells": [
  {
   "cell_type": "markdown",
   "metadata": {},
   "source": [
    "#  TOPIC MODELING --- >> 20 News group data"
   ]
  },
  {
   "cell_type": "code",
   "execution_count": 1,
   "metadata": {},
   "outputs": [
    {
     "name": "stderr",
     "output_type": "stream",
     "text": [
      "C:\\Users\\SAI KRISHNA\\Anaconda3\\lib\\site-packages\\gensim\\utils.py:1197: UserWarning: detected Windows; aliasing chunkize to chunkize_serial\n",
      "  warnings.warn(\"detected Windows; aliasing chunkize to chunkize_serial\")\n"
     ]
    }
   ],
   "source": [
    "import re\n",
    "import numpy as np\n",
    "import pandas as pd\n",
    "import gensim\n",
    "import gensim.corpora as corpora\n",
    "from gensim.utils import simple_preprocess, lemmatize\n",
    "from gensim.models import CoherenceModel\n",
    "import nltk\n",
    "import pyLDAvis\n",
    "import pyLDAvis.gensim\n",
    "import matplotlib.pyplot as plt\n",
    "%matplotlib inline\n",
    "from gensim.models import HdpModel"
   ]
  },
  {
   "cell_type": "code",
   "execution_count": null,
   "metadata": {
    "collapsed": true
   },
   "outputs": [],
   "source": []
  },
  {
   "cell_type": "code",
   "execution_count": 13,
   "metadata": {
    "collapsed": true
   },
   "outputs": [],
   "source": [
    "from nltk.corpus import stopwords\n",
    "stop_words = stopwords.words('english')\n",
    "stop_words.extend(['from', 'subject', 're', 'edu', 'use','thank','you'])"
   ]
  },
  {
   "cell_type": "code",
   "execution_count": 3,
   "metadata": {
    "collapsed": true
   },
   "outputs": [],
   "source": [
    "from sklearn.datasets import fetch_20newsgroups\n",
    "df_train = fetch_20newsgroups(subset='train', shuffle = True)\n",
    "df_test = fetch_20newsgroups(subset='test', shuffle = True)"
   ]
  },
  {
   "cell_type": "code",
   "execution_count": 4,
   "metadata": {},
   "outputs": [
    {
     "name": "stdout",
     "output_type": "stream",
     "text": [
      "['alt.atheism', 'comp.graphics', 'comp.os.ms-windows.misc', 'comp.sys.ibm.pc.hardware', 'comp.sys.mac.hardware', 'comp.windows.x', 'misc.forsale', 'rec.autos', 'rec.motorcycles', 'rec.sport.baseball', 'rec.sport.hockey', 'sci.crypt', 'sci.electronics', 'sci.med', 'sci.space', 'soc.religion.christian', 'talk.politics.guns', 'talk.politics.mideast', 'talk.politics.misc', 'talk.religion.misc']\n"
     ]
    }
   ],
   "source": [
    "list(df_train.target_names)\n",
    "print(list(df_train.target_names))"
   ]
  },
  {
   "cell_type": "code",
   "execution_count": 10,
   "metadata": {},
   "outputs": [
    {
     "data": {
      "text/plain": [
       "\"From: guykuo@carson.u.washington.edu (Guy Kuo)\\nSubject: SI Clock Poll - Final Call\\nSummary: Final call for SI clock reports\\nKeywords: SI,acceleration,clock,upgrade\\nArticle-I.D.: shelley.1qvfo9INNc3s\\nOrganization: University of Washington\\nLines: 11\\nNNTP-Posting-Host: carson.u.washington.edu\\n\\nA fair number of brave souls who upgraded their SI clock oscillator have\\nshared their experiences for this poll. Please send a brief message detailing\\nyour experiences with the procedure. Top speed attained, CPU rated speed,\\nadd on cards and adapters, heat sinks, hour of usage per day, floppy disk\\nfunctionality with 800 and 1.4 m floppies are especially requested.\\n\\nI will be summarizing in the next two days, so please add to the network\\nknowledge base if you have done the clock upgrade and haven't answered this\\npoll. Thanks.\\n\\nGuy Kuo <guykuo@u.washington.edu>\\n\""
      ]
     },
     "execution_count": 10,
     "metadata": {},
     "output_type": "execute_result"
    }
   ],
   "source": [
    "df_train.data[1]"
   ]
  },
  {
   "cell_type": "code",
   "execution_count": 11,
   "metadata": {},
   "outputs": [
    {
     "data": {
      "text/plain": [
       "'comp.graphics'"
      ]
     },
     "execution_count": 11,
     "metadata": {},
     "output_type": "execute_result"
    }
   ],
   "source": [
    "df_train.target_names[1]"
   ]
  },
  {
   "cell_type": "code",
   "execution_count": 6,
   "metadata": {},
   "outputs": [
    {
     "name": "stderr",
     "output_type": "stream",
     "text": [
      "C:\\Users\\SAI KRISHNA\\Anaconda3\\lib\\site-packages\\pattern\\text\\__init__.py:625: DeprecationWarning: generator '_read' raised StopIteration\n",
      "  dict.update(self, (x.split(\" \")[:2] for x in _read(self._path) if len(x.split(\" \")) > 1))\n",
      "C:\\Users\\SAI KRISHNA\\Anaconda3\\lib\\site-packages\\pattern\\text\\__init__.py:959: DeprecationWarning: generator '_read' raised StopIteration\n",
      "  for x in _read(self.path):\n",
      "C:\\Users\\SAI KRISHNA\\Anaconda3\\lib\\site-packages\\pattern\\text\\__init__.py:2127: DeprecationWarning: generator '_read' raised StopIteration\n",
      "  for v in _read(self._path):\n"
     ]
    }
   ],
   "source": [
    "#### lemmatization and preprocessing\n",
    "\n",
    "data_processed=[]\n",
    "for c in range(df_train.filenames.shape[0]):\n",
    "    doc=df_train.data[c].split()\n",
    "    doc_out=[]\n",
    "    for x in doc:\n",
    "        if x not in stop_words:\n",
    "            lemma = lemmatize(x,allowed_tags=re.compile('(NN|VB|RB)'))\n",
    "            if lemma:\n",
    "                doc_out = doc_out + [lemma[0].split(b'/')[0].decode('utf-8')]\n",
    "        else:\n",
    "            continue\n",
    "    data_processed.append(doc_out)\n"
   ]
  },
  {
   "cell_type": "code",
   "execution_count": 12,
   "metadata": {},
   "outputs": [
    {
     "name": "stdout",
     "output_type": "stream",
     "text": [
      "guykuo guy kuo subject si clock poll call summary call si clock report keyword si article shelley organization university washington line nntp carson number brave soul upgrade si clock oscillator share experience poll please send message detail experience procedure top speed attain cpu rate speed add card adapter heat sink hour usage day disk functionality floppy especially request summarize next day please add network knowledge base do clock answer poll thank guy kuo guykuo\n"
     ]
    }
   ],
   "source": [
    "print(\" \".join(data_processed[1]))"
   ]
  },
  {
   "cell_type": "code",
   "execution_count": 14,
   "metadata": {
    "collapsed": true
   },
   "outputs": [],
   "source": [
    "#### Creating a dictionary for term document frequency\n",
    "id2word = corpora.Dictionary(data_processed)"
   ]
  },
  {
   "cell_type": "code",
   "execution_count": 15,
   "metadata": {
    "collapsed": true
   },
   "outputs": [],
   "source": [
    "id2word.filter_extremes(no_below=10, no_above=0.1, keep_n= 100000)"
   ]
  },
  {
   "cell_type": "code",
   "execution_count": 16,
   "metadata": {
    "scrolled": true
   },
   "outputs": [
    {
     "data": {
      "text/plain": [
       "8730"
      ]
     },
     "execution_count": 16,
     "metadata": {},
     "output_type": "execute_result"
    }
   ],
   "source": [
    "len(id2word)"
   ]
  },
  {
   "cell_type": "code",
   "execution_count": 17,
   "metadata": {
    "collapsed": true
   },
   "outputs": [],
   "source": [
    "bow_corpus = [id2word.doc2bow(doc) for doc in data_processed]"
   ]
  },
  {
   "cell_type": "code",
   "execution_count": 18,
   "metadata": {
    "scrolled": false
   },
   "outputs": [
    {
     "data": {
      "text/plain": [
       "11314"
      ]
     },
     "execution_count": 18,
     "metadata": {},
     "output_type": "execute_result"
    }
   ],
   "source": [
    "len(bow_corpus)"
   ]
  },
  {
   "cell_type": "code",
   "execution_count": 19,
   "metadata": {},
   "outputs": [
    {
     "name": "stdout",
     "output_type": "stream",
     "text": [
      "Word 24 (\"adapter\") appears 1 time.\n",
      "Word 25 (\"add\") appears 2 time.\n",
      "Word 26 (\"answer\") appears 1 time.\n",
      "Word 27 (\"attain\") appears 1 time.\n",
      "Word 28 (\"base\") appears 1 time.\n",
      "Word 29 (\"brave\") appears 1 time.\n",
      "Word 30 (\"card\") appears 1 time.\n",
      "Word 31 (\"carson\") appears 1 time.\n",
      "Word 32 (\"clock\") appears 4 time.\n",
      "Word 33 (\"cpu\") appears 1 time.\n",
      "Word 34 (\"detail\") appears 1 time.\n",
      "Word 35 (\"disk\") appears 1 time.\n",
      "Word 36 (\"especially\") appears 1 time.\n",
      "Word 37 (\"experience\") appears 2 time.\n",
      "Word 38 (\"floppy\") appears 1 time.\n",
      "Word 39 (\"functionality\") appears 1 time.\n",
      "Word 40 (\"guy\") appears 2 time.\n",
      "Word 41 (\"heat\") appears 1 time.\n",
      "Word 42 (\"hour\") appears 1 time.\n",
      "Word 43 (\"keyword\") appears 1 time.\n",
      "Word 44 (\"knowledge\") appears 1 time.\n",
      "Word 45 (\"kuo\") appears 2 time.\n",
      "Word 46 (\"message\") appears 1 time.\n",
      "Word 47 (\"network\") appears 1 time.\n",
      "Word 48 (\"next\") appears 1 time.\n",
      "Word 49 (\"oscillator\") appears 1 time.\n",
      "Word 50 (\"poll\") appears 3 time.\n",
      "Word 51 (\"procedure\") appears 1 time.\n",
      "Word 52 (\"rate\") appears 1 time.\n",
      "Word 53 (\"report\") appears 1 time.\n",
      "Word 54 (\"request\") appears 1 time.\n",
      "Word 55 (\"send\") appears 1 time.\n",
      "Word 56 (\"share\") appears 1 time.\n",
      "Word 57 (\"shelley\") appears 1 time.\n",
      "Word 58 (\"si\") appears 4 time.\n",
      "Word 59 (\"sink\") appears 1 time.\n",
      "Word 60 (\"soul\") appears 1 time.\n",
      "Word 61 (\"speed\") appears 2 time.\n",
      "Word 62 (\"summarize\") appears 1 time.\n",
      "Word 63 (\"summary\") appears 1 time.\n",
      "Word 64 (\"top\") appears 1 time.\n",
      "Word 65 (\"upgrade\") appears 1 time.\n",
      "Word 66 (\"usage\") appears 1 time.\n",
      "Word 67 (\"washington\") appears 1 time.\n"
     ]
    }
   ],
   "source": [
    "document_num = 1\n",
    "bow_doc_x = bow_corpus[document_num]\n",
    "\n",
    "for i in range(len(bow_doc_x)):\n",
    "    print(\"Word {} (\\\"{}\\\") appears {} time.\".format(bow_doc_x[i][0], id2word[bow_doc_x[i][0]],bow_doc_x[i][1]))"
   ]
  },
  {
   "cell_type": "code",
   "execution_count": 20,
   "metadata": {
    "collapsed": true
   },
   "outputs": [],
   "source": [
    "### Model---- LDA\n",
    "lda_model = gensim.models.ldamodel.LdaModel(corpus=bow_corpus,id2word=id2word,num_topics=7,random_state=100,update_every=1,chunksize=100,passes=10,alpha='auto',per_word_topics=True)\n"
   ]
  },
  {
   "cell_type": "code",
   "execution_count": 21,
   "metadata": {
    "scrolled": false
   },
   "outputs": [
    {
     "name": "stdout",
     "output_type": "stream",
     "text": [
      "Topic: 0, \n",
      " Words: 0.010*\"space\" + 0.009*\"chip\" + 0.008*\"information\" + 0.008*\"technology\" + 0.007*\"research\" + 0.005*\"group\" + 0.005*\"phone\" + 0.005*\"datum\" + 0.005*\"program\" + 0.005*\"science\" \n",
      "\n",
      "Topic: 1, \n",
      " Words: 0.026*\"max\" + 0.025*\"car\" + 0.012*\"video\" + 0.011*\"color\" + 0.011*\"bike\" + 0.010*\"drive\" + 0.010*\"dn\" + 0.009*\"test\" + 0.008*\"sphere\" + 0.007*\"engine\" \n",
      "\n",
      "Topic: 2, \n",
      " Words: 0.016*\"window\" + 0.015*\"file\" + 0.014*\"drive\" + 0.014*\"card\" + 0.008*\"program\" + 0.008*\"software\" + 0.008*\"driver\" + 0.008*\"mac\" + 0.008*\"sale\" + 0.008*\"machine\" \n",
      "\n",
      "Topic: 3, \n",
      " Words: 0.020*\"team\" + 0.019*\"game\" + 0.014*\"play\" + 0.010*\"internet\" + 0.010*\"st\" + 0.009*\"player\" + 0.009*\"hockey\" + 0.008*\"vs\" + 0.007*\"bob\" + 0.006*\"season\" \n",
      "\n",
      "Topic: 4, \n",
      " Words: 0.006*\"ll\" + 0.006*\"hear\" + 0.006*\"keep\" + 0.005*\"power\" + 0.005*\"anything\" + 0.005*\"enough\" + 0.005*\"end\" + 0.005*\"course\" + 0.004*\"probably\" + 0.004*\"money\" \n",
      "\n",
      "Topic: 5, \n",
      " Words: 0.015*\"law\" + 0.013*\"government\" + 0.012*\"israel\" + 0.012*\"gun\" + 0.008*\"mr\" + 0.006*\"kill\" + 0.006*\"war\" + 0.006*\"country\" + 0.006*\"death\" + 0.006*\"president\" \n",
      "\n",
      "Topic: 6, \n",
      " Words: 0.032*\"god\" + 0.017*\"evidence\" + 0.014*\"reason\" + 0.010*\"claim\" + 0.009*\"sense\" + 0.009*\"jesus\" + 0.008*\"faith\" + 0.008*\"exist\" + 0.008*\"christian\" + 0.008*\"man\" \n",
      "\n"
     ]
    }
   ],
   "source": [
    "for num, topic in lda_model.print_topics(-1):\n",
    "    print('Topic: {}, \\n Words: {} \\n'.format(num,topic))"
   ]
  },
  {
   "cell_type": "code",
   "execution_count": null,
   "metadata": {
    "collapsed": true
   },
   "outputs": [],
   "source": [
    "###     TOPICS \n",
    "## topic 0 : Space and technology\n",
    "## topic 1 : Automobile and motercycles\n",
    "## topic 2 : Computer hardware and software\n",
    "## topic 3 : Baseball , hockey , sports\n",
    "## topic 4 : Politics ??\n",
    "## topic 5 : Politics....\n",
    "## topic 6 : Atheism"
   ]
  },
  {
   "cell_type": "code",
   "execution_count": 22,
   "metadata": {
    "collapsed": true
   },
   "outputs": [],
   "source": [
    "##hdp model"
   ]
  },
  {
   "cell_type": "code",
   "execution_count": 23,
   "metadata": {
    "collapsed": true
   },
   "outputs": [],
   "source": [
    "hdp = HdpModel(corpus=bow_corpus,id2word=id2word,chunksize=100)"
   ]
  },
  {
   "cell_type": "code",
   "execution_count": 24,
   "metadata": {},
   "outputs": [
    {
     "data": {
      "text/plain": [
       "20"
      ]
     },
     "execution_count": 24,
     "metadata": {},
     "output_type": "execute_result"
    }
   ],
   "source": [
    "len(hdp.print_topics())"
   ]
  },
  {
   "cell_type": "code",
   "execution_count": 27,
   "metadata": {},
   "outputs": [
    {
     "name": "stdout",
     "output_type": "stream",
     "text": [
      "Topic: 0, \n",
      " Words: 0.003*file + 0.003*god + 0.003*government + 0.003*law + 0.002*program + 0.002*gun + 0.002*information + 0.002*window + 0.002*space + 0.002*game \n",
      "\n",
      "Topic: 1, \n",
      " Words: 0.008*drive + 0.007*window + 0.007*card + 0.006*scsi + 0.005*mb + 0.005*bit + 0.005*file + 0.005*disk + 0.004*mac + 0.003*driver \n",
      "\n",
      "Topic: 2, \n",
      " Words: 0.012*god + 0.004*reason + 0.004*evidence + 0.004*exist + 0.003*faith + 0.003*jesus + 0.003*christian + 0.003*word + 0.003*argument + 0.003*truth \n",
      "\n",
      "Topic: 3, \n",
      " Words: 0.017*db + 0.005*window + 0.005*car + 0.004*bit + 0.003*game + 0.003*chip + 0.003*card + 0.003*buy + 0.002*inc + 0.002*price \n",
      "\n",
      "Topic: 4, \n",
      " Words: 0.253*max + 0.018*ax + 0.011*mw + 0.008*mq + 0.008*ml + 0.008*pl + 0.007*mv + 0.007*md + 0.007*mt + 0.007*mg \n",
      "\n",
      "Topic: 5, \n",
      " Words: 0.010*card + 0.010*window + 0.006*driver + 0.006*drive + 0.004*file + 0.004*version + 0.004*scsi + 0.004*mb + 0.004*controller + 0.004*video \n",
      "\n",
      "Topic: 6, \n",
      " Words: 0.006*bank + 0.006*gordon + 0.005*team + 0.004*car + 0.004*play + 0.004*geb + 0.003*game + 0.003*det + 0.003*chi + 0.003*la \n",
      "\n",
      "Topic: 7, \n",
      " Words: 0.007*space + 0.005*orbit + 0.004*nasa + 0.004*henry + 0.004*image + 0.004*mission + 0.004*shuttle + 0.004*launch + 0.003*astronaut + 0.003*earth \n",
      "\n",
      "Topic: 8, \n",
      " Words: 0.005*vs + 0.005*nhl + 0.004*team + 0.004*rauser + 0.004*european + 0.003*pitt + 0.003*hockey + 0.003*play + 0.003*player + 0.002*chi \n",
      "\n",
      "Topic: 9, \n",
      " Words: 0.010*risc + 0.007*instruction + 0.006*set + 0.005*mb + 0.004*scsi + 0.003*reduce + 0.003*cisc + 0.003*performance + 0.002*mode + 0.002*information \n",
      "\n",
      "Topic: 10, \n",
      " Words: 0.018*period + 0.014*pp + 0.012*play + 0.010*power + 0.010*pt + 0.009*scorer + 0.005*ny + 0.005*st + 0.004*philadelphia + 0.004*pittsburgh \n",
      "\n",
      "Topic: 11, \n",
      " Words: 0.010*man + 0.005*study + 0.005*male + 0.004*show + 0.004*partner + 0.004*cramer + 0.003*percent + 0.003*sex + 0.003*report + 0.003*survey \n",
      "\n",
      "Topic: 12, \n",
      " Words: 0.004*turkish + 0.003*turk + 0.003*muslim + 0.003*genocide + 0.003*serdar + 0.003*government + 0.002*today + 0.002*armenia + 0.002*armenian + 0.002*kurd \n",
      "\n",
      "Topic: 13, \n",
      " Words: 0.007*captain + 0.006*trade + 0.002*team + 0.001*nhl + 0.001*buffalo + 0.001*forget + 0.001*mike + 0.001*game + 0.001*pittsburgh + 0.001*hammerl \n",
      "\n",
      "Topic: 14, \n",
      " Words: 0.003*option + 0.003*power + 0.002*space + 0.002*module + 0.002*station + 0.002*shuttle + 0.002*ssf + 0.002*flight + 0.002*capability + 0.002*mike \n",
      "\n",
      "Topic: 15, \n",
      " Words: 0.006*very + 0.005*miss + 0.005*tn + 0.004*geoffrey + 0.003*cover + 0.003*module + 0.003*dragon + 0.002*poster + 0.002*israel + 0.002*window \n",
      "\n",
      "Topic: 16, \n",
      " Words: 0.001*scsi + 0.001*drug + 0.001*name + 0.001*version + 0.001*angel + 0.001*god + 0.001*archive + 0.001*steal + 0.001*christianity + 0.001*ll \n",
      "\n",
      "Topic: 17, \n",
      " Words: 0.002*amanda + 0.002*warrant + 0.001*encryption + 0.001*clipper + 0.001*corporation + 0.001*court + 0.001*datum + 0.001*wiretap + 0.001*walker + 0.001*modem \n",
      "\n",
      "Topic: 18, \n",
      " Words: 0.007*switch + 0.007*relay + 0.004*circuit + 0.003*click + 0.003*level + 0.003*lamp + 0.002*tom + 0.002*wagner + 0.002*signal + 0.002*amp \n",
      "\n",
      "Topic: 19, \n",
      " Words: 0.004*belief + 0.002*bull + 0.002*prayer + 0.002*hold + 0.002*caldwell + 0.002*god + 0.002*cult + 0.002*truth + 0.002*quite + 0.002*access \n",
      "\n"
     ]
    }
   ],
   "source": [
    "for num, topic in hdp.print_topics(20):\n",
    "    print('Topic: {}, \\n Words: {} \\n'.format(num,topic))"
   ]
  },
  {
   "cell_type": "code",
   "execution_count": 28,
   "metadata": {
    "collapsed": true
   },
   "outputs": [],
   "source": [
    "#### coherence score\n",
    "coherence_model_lda = CoherenceModel(model=lda_model, texts=data_processed, dictionary=id2word, coherence='c_v')"
   ]
  },
  {
   "cell_type": "code",
   "execution_count": 29,
   "metadata": {
    "collapsed": true
   },
   "outputs": [],
   "source": [
    "coherence_lda = coherence_model_lda.get_coherence()"
   ]
  },
  {
   "cell_type": "code",
   "execution_count": 30,
   "metadata": {},
   "outputs": [
    {
     "name": "stdout",
     "output_type": "stream",
     "text": [
      "\n",
      "Coherence Score:  0.5766782298654541\n"
     ]
    }
   ],
   "source": [
    "print('\\nCoherence Score: ', coherence_lda)"
   ]
  },
  {
   "cell_type": "code",
   "execution_count": 31,
   "metadata": {
    "collapsed": true
   },
   "outputs": [],
   "source": [
    "############ lsi model\n",
    "lsi_model = gensim.models.lsimodel.LsiModel(corpus=bow_corpus, id2word=id2word, num_topics=7, decay=0.5)"
   ]
  },
  {
   "cell_type": "code",
   "execution_count": 32,
   "metadata": {},
   "outputs": [
    {
     "name": "stdout",
     "output_type": "stream",
     "text": [
      "Topic: 0, \n",
      " Words: -0.997*\"max\" + -0.050*\"ax\" + -0.018*\"pl\" + -0.015*\"ml\" + -0.014*\"mg\" + -0.013*\"mi\" + -0.013*\"tm\" + -0.012*\"mq\" + -0.012*\"gq\" + -0.012*\"ei\" \n",
      "\n",
      "Topic: 1, \n",
      " Words: -0.511*\"file\" + -0.206*\"program\" + -0.193*\"image\" + -0.154*\"entry\" + -0.132*\"jpeg\" + -0.128*\"information\" + -0.117*\"output\" + -0.115*\"version\" + -0.111*\"window\" + -0.103*\"ftp\" \n",
      "\n",
      "Topic: 2, \n",
      " Words: 0.962*\"db\" + 0.086*\"byte\" + 0.082*\"bh\" + 0.082*\"bl\" + 0.079*\"bit\" + 0.076*\"di\" + -0.072*\"file\" + 0.065*\"si\" + 0.064*\"al\" + 0.058*\"cx\" \n",
      "\n",
      "Topic: 3, \n",
      " Words: -0.517*\"file\" + -0.292*\"entry\" + -0.232*\"output\" + 0.110*\"datum\" + -0.107*\"gun\" + -0.106*\"printf\" + 0.103*\"window\" + -0.102*\"char\" + 0.096*\"support\" + -0.093*\"contest\" \n",
      "\n",
      "Topic: 4, \n",
      " Words: -0.402*\"image\" + -0.346*\"jpeg\" + 0.180*\"mr\" + -0.168*\"color\" + -0.154*\"format\" + -0.149*\"gif\" + -0.126*\"version\" + 0.122*\"entry\" + 0.119*\"gun\" + 0.117*\"president\" \n",
      "\n",
      "Topic: 5, \n",
      " Words: -0.404*\"entry\" + 0.303*\"file\" + 0.258*\"gun\" + 0.231*\"mr\" + 0.221*\"jpeg\" + -0.200*\"output\" + -0.187*\"program\" + 0.158*\"image\" + -0.127*\"build\" + 0.122*\"firearm\" \n",
      "\n",
      "Topic: 6, \n",
      " Words: 0.337*\"jpeg\" + 0.245*\"image\" + 0.210*\"team\" + 0.202*\"hockey\" + 0.185*\"game\" + -0.180*\"widget\" + 0.169*\"entry\" + 0.159*\"league\" + 0.139*\"gif\" + -0.135*\"window\" \n",
      "\n"
     ]
    }
   ],
   "source": [
    "for num, topic in lsi_model.print_topics(-1):\n",
    "    print('Topic: {}, \\n Words: {} \\n'.format(num,topic))"
   ]
  },
  {
   "cell_type": "code",
   "execution_count": 33,
   "metadata": {},
   "outputs": [
    {
     "data": {
      "text/html": [
       "\n",
       "<link rel=\"stylesheet\" type=\"text/css\" href=\"https://cdn.rawgit.com/bmabey/pyLDAvis/files/ldavis.v1.0.0.css\">\n",
       "\n",
       "\n",
       "<div id=\"ldavis_el284424525353590724144615498\"></div>\n",
       "<script type=\"text/javascript\">\n",
       "\n",
       "var ldavis_el284424525353590724144615498_data = {\"mdsDat\": {\"Freq\": [25.03885269165039, 18.568788528442383, 13.862035751342773, 13.341961860656738, 12.744797706604004, 9.588062286376953, 6.855495929718018], \"cluster\": [1, 1, 1, 1, 1, 1, 1], \"topics\": [1, 2, 3, 4, 5, 6, 7], \"x\": [-0.14721593077521758, -0.04158394801635025, 0.06142259594191999, -0.1619085245960187, -0.21571631211451409, 0.13176148028788376, 0.37324063927229706], \"y\": [-0.07661655788504759, 0.17618478177863187, 0.2694148112603183, -0.06213014847202423, -0.017446571497892225, -0.3051791777648436, 0.015772862580857604]}, \"tinfo\": {\"Category\": [\"Default\", \"Default\", \"Default\", \"Default\", \"Default\", \"Default\", \"Default\", \"Default\", \"Default\", \"Default\", \"Default\", \"Default\", \"Default\", \"Default\", \"Default\", \"Default\", \"Default\", \"Default\", \"Default\", \"Default\", \"Default\", \"Default\", \"Default\", \"Default\", \"Default\", \"Default\", \"Default\", \"Default\", \"Default\", \"Default\", \"Topic1\", \"Topic1\", \"Topic1\", \"Topic1\", \"Topic1\", \"Topic1\", \"Topic1\", \"Topic1\", \"Topic1\", \"Topic1\", \"Topic1\", \"Topic1\", \"Topic1\", \"Topic1\", \"Topic1\", \"Topic1\", \"Topic1\", \"Topic1\", \"Topic1\", \"Topic1\", \"Topic1\", \"Topic1\", \"Topic1\", \"Topic1\", \"Topic1\", \"Topic1\", \"Topic1\", \"Topic1\", \"Topic1\", \"Topic1\", \"Topic1\", \"Topic1\", \"Topic1\", \"Topic1\", \"Topic1\", \"Topic1\", \"Topic1\", \"Topic1\", \"Topic1\", \"Topic1\", \"Topic1\", \"Topic1\", \"Topic1\", \"Topic1\", \"Topic1\", \"Topic1\", \"Topic1\", \"Topic1\", \"Topic1\", \"Topic1\", \"Topic1\", \"Topic1\", \"Topic1\", \"Topic1\", \"Topic1\", \"Topic1\", \"Topic1\", \"Topic1\", \"Topic1\", \"Topic1\", \"Topic1\", \"Topic1\", \"Topic1\", \"Topic1\", \"Topic1\", \"Topic1\", \"Topic2\", \"Topic2\", \"Topic2\", \"Topic2\", \"Topic2\", \"Topic2\", \"Topic2\", \"Topic2\", \"Topic2\", \"Topic2\", \"Topic2\", \"Topic2\", \"Topic2\", \"Topic2\", \"Topic2\", \"Topic2\", \"Topic2\", \"Topic2\", \"Topic2\", \"Topic2\", \"Topic2\", \"Topic2\", \"Topic2\", \"Topic2\", \"Topic2\", \"Topic2\", \"Topic2\", \"Topic2\", \"Topic2\", \"Topic2\", \"Topic2\", \"Topic2\", \"Topic2\", \"Topic2\", \"Topic2\", \"Topic2\", \"Topic2\", \"Topic2\", \"Topic2\", \"Topic2\", \"Topic2\", \"Topic2\", \"Topic2\", \"Topic2\", \"Topic2\", \"Topic2\", \"Topic2\", \"Topic2\", \"Topic2\", \"Topic2\", \"Topic2\", \"Topic2\", \"Topic2\", \"Topic2\", \"Topic2\", \"Topic2\", \"Topic3\", \"Topic3\", \"Topic3\", \"Topic3\", \"Topic3\", \"Topic3\", \"Topic3\", \"Topic3\", \"Topic3\", \"Topic3\", \"Topic3\", \"Topic3\", \"Topic3\", \"Topic3\", \"Topic3\", \"Topic3\", \"Topic3\", \"Topic3\", \"Topic3\", \"Topic3\", \"Topic3\", \"Topic3\", \"Topic3\", \"Topic3\", \"Topic3\", \"Topic3\", \"Topic3\", \"Topic3\", \"Topic3\", \"Topic3\", \"Topic3\", \"Topic3\", \"Topic3\", \"Topic3\", \"Topic3\", \"Topic3\", \"Topic3\", \"Topic3\", \"Topic3\", \"Topic3\", \"Topic3\", \"Topic3\", \"Topic3\", \"Topic3\", \"Topic3\", \"Topic3\", \"Topic3\", \"Topic3\", \"Topic4\", \"Topic4\", \"Topic4\", \"Topic4\", \"Topic4\", \"Topic4\", \"Topic4\", \"Topic4\", \"Topic4\", \"Topic4\", \"Topic4\", \"Topic4\", \"Topic4\", \"Topic4\", \"Topic4\", \"Topic4\", \"Topic4\", \"Topic4\", \"Topic4\", \"Topic4\", \"Topic4\", \"Topic4\", \"Topic4\", \"Topic4\", \"Topic4\", \"Topic4\", \"Topic4\", \"Topic4\", \"Topic4\", \"Topic4\", \"Topic4\", \"Topic4\", \"Topic4\", \"Topic4\", \"Topic4\", \"Topic4\", \"Topic4\", \"Topic4\", \"Topic4\", \"Topic4\", \"Topic4\", \"Topic4\", \"Topic4\", \"Topic4\", \"Topic4\", \"Topic5\", \"Topic5\", \"Topic5\", \"Topic5\", \"Topic5\", \"Topic5\", \"Topic5\", \"Topic5\", \"Topic5\", \"Topic5\", \"Topic5\", \"Topic5\", \"Topic5\", \"Topic5\", \"Topic5\", \"Topic5\", \"Topic5\", \"Topic5\", \"Topic5\", \"Topic5\", \"Topic5\", \"Topic5\", \"Topic5\", \"Topic5\", \"Topic5\", \"Topic5\", \"Topic5\", \"Topic5\", \"Topic5\", \"Topic5\", \"Topic5\", \"Topic5\", \"Topic5\", \"Topic5\", \"Topic5\", \"Topic5\", \"Topic5\", \"Topic5\", \"Topic5\", \"Topic5\", \"Topic5\", \"Topic5\", \"Topic5\", \"Topic5\", \"Topic5\", \"Topic5\", \"Topic5\", \"Topic5\", \"Topic5\", \"Topic5\", \"Topic5\", \"Topic6\", \"Topic6\", \"Topic6\", \"Topic6\", \"Topic6\", \"Topic6\", \"Topic6\", \"Topic6\", \"Topic6\", \"Topic6\", \"Topic6\", \"Topic6\", \"Topic6\", \"Topic6\", \"Topic6\", \"Topic6\", \"Topic6\", \"Topic6\", \"Topic6\", \"Topic6\", \"Topic6\", \"Topic6\", \"Topic6\", \"Topic6\", \"Topic6\", \"Topic6\", \"Topic6\", \"Topic6\", \"Topic6\", \"Topic6\", \"Topic6\", \"Topic6\", \"Topic6\", \"Topic6\", \"Topic6\", \"Topic6\", \"Topic6\", \"Topic6\", \"Topic6\", \"Topic6\", \"Topic6\", \"Topic6\", \"Topic6\", \"Topic6\", \"Topic7\", \"Topic7\", \"Topic7\", \"Topic7\", \"Topic7\", \"Topic7\", \"Topic7\", \"Topic7\", \"Topic7\", \"Topic7\", \"Topic7\", \"Topic7\", \"Topic7\", \"Topic7\", \"Topic7\", \"Topic7\", \"Topic7\", \"Topic7\", \"Topic7\", \"Topic7\", \"Topic7\", \"Topic7\", \"Topic7\", \"Topic7\", \"Topic7\", \"Topic7\", \"Topic7\", \"Topic7\", \"Topic7\", \"Topic7\", \"Topic7\", \"Topic7\", \"Topic7\", \"Topic7\", \"Topic7\", \"Topic7\", \"Topic7\", \"Topic7\", \"Topic7\", \"Topic7\", \"Topic7\", \"Topic7\", \"Topic7\", \"Topic7\", \"Topic7\"], \"Freq\": [4052.0, 1746.0, 1734.0, 1887.0, 2230.0, 2121.0, 1793.0, 2061.0, 2009.0, 2744.0, 1874.0, 1777.0, 2402.0, 1613.0, 1607.0, 1348.0, 1851.0, 1683.0, 2097.0, 1501.0, 1177.0, 1410.0, 1311.0, 837.0, 1049.0, 913.0, 1064.0, 1316.0, 1705.0, 1407.0, 1072.6416015625, 1001.2957153320312, 849.218994140625, 806.025146484375, 786.1806030273438, 747.4762573242188, 533.9169311523438, 525.3839111328125, 504.37188720703125, 486.5414123535156, 475.4039001464844, 470.83563232421875, 470.0087585449219, 453.99310302734375, 440.8432922363281, 429.4554443359375, 412.34527587890625, 395.6249694824219, 392.24420166015625, 382.68194580078125, 378.9375, 369.20587158203125, 367.72216796875, 364.42596435546875, 358.5516357421875, 353.9608154296875, 344.7903747558594, 341.43365478515625, 339.27532958984375, 334.9116516113281, 710.412109375, 1483.172607421875, 752.4554443359375, 760.1322631835938, 1054.6226806640625, 600.4488525390625, 1562.102294921875, 668.9309692382812, 1041.4691162109375, 1208.632080078125, 926.8410034179688, 705.7012329101562, 876.0177001953125, 839.7246704101562, 888.5205688476562, 1439.12646484375, 847.2359008789062, 992.4526977539062, 648.7968139648438, 915.139404296875, 1268.8526611328125, 893.1322631835938, 1236.932861328125, 1100.50146484375, 1127.1875, 913.6909790039062, 957.8573608398438, 1152.5721435546875, 1049.671875, 1016.5704956054688, 904.4451904296875, 876.883544921875, 907.9083862304688, 888.6770629882812, 883.843505859375, 881.3494262695312, 1850.3123779296875, 1682.5814208984375, 1409.1605224609375, 967.6372680664062, 831.6611328125, 723.6670532226562, 652.227783203125, 636.3379516601562, 564.5402221679688, 556.5596923828125, 527.2554321289062, 521.7548828125, 509.3883056640625, 506.8545227050781, 504.2257080078125, 469.80157470703125, 462.4879455566406, 460.1632080078125, 433.6007385253906, 426.6827697753906, 424.12054443359375, 416.9364013671875, 411.9395751953125, 408.2819519042969, 410.07916259765625, 402.6100158691406, 401.2135925292969, 399.37939453125, 368.33148193359375, 357.48406982421875, 587.111328125, 1506.16796875, 1281.459228515625, 534.1727905273438, 658.4561157226562, 603.571044921875, 679.236083984375, 934.6852416992188, 965.3623046875, 619.5592041015625, 697.0946655273438, 604.8972778320312, 940.8153686523438, 924.6424560546875, 764.2723999023438, 689.8003540039062, 969.7978515625, 801.0249633789062, 952.1986083984375, 805.7405395507812, 710.2137451171875, 747.5787963867188, 693.0152587890625, 654.8821411132812, 669.4478759765625, 613.594482421875, 2230.021728515625, 2060.860595703125, 1874.0947265625, 1063.14111328125, 976.0707397460938, 910.53759765625, 905.0552368164062, 860.1887817382812, 842.5342407226562, 769.374755859375, 710.1257934570312, 689.765625, 686.1064453125, 643.7780151367188, 626.1558227539062, 621.5338134765625, 616.82177734375, 570.0135498046875, 559.5886840820312, 541.9414672851562, 520.9552001953125, 507.4354248046875, 450.3882141113281, 424.1042175292969, 418.55609130859375, 416.264404296875, 412.50128173828125, 406.3186950683594, 405.1371154785156, 409.9220275878906, 1022.6103515625, 1061.34814453125, 833.5595092773438, 654.5414428710938, 678.304931640625, 638.7261962890625, 1095.41650390625, 1959.530517578125, 1103.1656494140625, 1058.9398193359375, 811.6871948242188, 1002.1901245117188, 1058.6873779296875, 1144.4739990234375, 874.3513793945312, 745.9425659179688, 654.8056640625, 680.304443359375, 2008.4024658203125, 1612.521728515625, 1606.619140625, 791.175048828125, 753.8656616210938, 730.0513916015625, 679.247802734375, 657.010009765625, 653.3515014648438, 617.2078247070312, 600.632568359375, 565.173095703125, 520.2135620117188, 519.1876220703125, 497.4359130859375, 489.3282165527344, 489.838134765625, 453.1943054199219, 452.4892578125, 427.86602783203125, 426.2015380859375, 424.2593994140625, 424.26104736328125, 418.5500793457031, 395.4061584472656, 390.7232666015625, 374.2646484375, 363.78228759765625, 340.86029052734375, 335.1839294433594, 813.8966674804688, 1726.7725830078125, 455.2652282714844, 678.0648193359375, 575.8226318359375, 1028.48681640625, 747.12939453125, 530.6411743164062, 688.7672119140625, 561.8327026367188, 704.8556518554688, 680.2865600585938, 610.9500732421875, 545.3344116210938, 557.1075439453125, 4051.88232421875, 1176.8756103515625, 1048.9095458984375, 971.8101806640625, 732.7504272460938, 728.1738891601562, 690.2050170898438, 691.54541015625, 541.906005859375, 491.1860046386719, 475.88287353515625, 473.6668395996094, 460.2791442871094, 441.4184875488281, 437.0481872558594, 436.6351318359375, 382.7082824707031, 354.87054443359375, 352.1949462890625, 345.9987487792969, 320.3726501464844, 315.03057861328125, 287.935791015625, 285.82611083984375, 279.9170837402344, 258.16058349609375, 251.14422607421875, 247.75344848632812, 249.41140747070312, 243.11936950683594, 2088.68115234375, 345.0431823730469, 714.1437377929688, 1182.79345703125, 1282.80517578125, 830.2953491210938, 1750.130126953125, 988.93017578125, 941.6229248046875, 600.9892578125, 853.0453491210938, 966.6483154296875, 463.6835021972656, 556.048095703125, 503.01806640625, 516.6524047851562, 607.7347412109375, 521.6331176757812, 537.2420654296875, 529.6275024414062, 486.7370300292969, 1886.3184814453125, 1792.8056640625, 1347.533447265625, 913.0775146484375, 870.6356201171875, 852.9860229492188, 615.8966064453125, 559.8023071289062, 561.3650512695312, 540.2615356445312, 517.5048217773438, 484.38848876953125, 455.10394287109375, 446.961669921875, 423.6111145019531, 417.4226989746094, 384.4154052734375, 375.3692626953125, 368.1929016113281, 344.64581298828125, 316.3351745605469, 346.15106201171875, 277.0942687988281, 271.39263916015625, 262.82403564453125, 250.32345581054688, 261.9089050292969, 245.74261474609375, 238.3944549560547, 236.92723083496094, 620.2855834960938, 368.34967041015625, 414.033447265625, 517.6182250976562, 769.6497192382812, 905.4830322265625, 578.5780639648438, 424.799560546875, 454.1390075683594, 537.5062255859375, 469.9692687988281, 386.6293029785156, 388.96893310546875, 389.0211486816406, 1745.5634765625, 836.9391479492188, 764.0510864257812, 722.9234008789062, 645.958740234375, 558.2317504882812, 480.61114501953125, 477.1257629394531, 469.03704833984375, 437.582275390625, 418.1124572753906, 363.49530029296875, 362.1094665527344, 345.6589050292969, 322.1868896484375, 343.2309265136719, 269.1224670410156, 253.89987182617188, 251.67591857910156, 249.4771728515625, 249.0325164794922, 247.1754150390625, 245.055908203125, 243.00912475585938, 247.80633544921875, 241.23587036132812, 233.7255401611328, 227.7863311767578, 225.68435668945312, 225.95681762695312, 1723.23388671875, 353.01666259765625, 633.0767822265625, 274.4913024902344, 374.73626708984375, 336.90789794921875, 273.98785400390625, 666.2092895507812, 401.5668029785156, 327.56292724609375, 298.5787658691406, 295.298095703125, 315.5120544433594, 294.6890869140625, 274.14306640625], \"Term\": [\"god\", \"max\", \"car\", \"team\", \"window\", \"evidence\", \"game\", \"file\", \"law\", \"drive\", \"card\", \"government\", \"reason\", \"israel\", \"gun\", \"play\", \"space\", \"chip\", \"program\", \"claim\", \"jesus\", \"technology\", \"sense\", \"video\", \"faith\", \"internet\", \"mac\", \"driver\", \"information\", \"software\", \"money\", \"turn\", \"com\", \"key\", \"master\", \"guess\", \"mouse\", \"al\", \"accord\", \"brain\", \"half\", \"food\", \"sin\", \"insurance\", \"mine\", \"colorado\", \"early\", \"period\", \"steal\", \"de\", \"secure\", \"pain\", \"visit\", \"putt\", \"win\", \"armenian\", \"sit\", \"pull\", \"nsa\", \"treatment\", \"friend\", \"hear\", \"too\", \"face\", \"maybe\", \"health\", \"ll\", \"light\", \"don\", \"enough\", \"remember\", \"month\", \"happen\", \"close\", \"just\", \"keep\", \"left\", \"put\", \"couple\", \"hand\", \"power\", \"kind\", \"anything\", \"probably\", \"course\", \"actually\", \"long\", \"end\", \"far\", \"talk\", \"cause\", \"thought\", \"opinion\", \"place\", \"show\", \"next\", \"space\", \"chip\", \"technology\", \"phone\", \"clipper\", \"encryption\", \"ripem\", \"serial\", \"server\", \"tin\", \"newsgroup\", \"nasa\", \"monitor\", \"package\", \"bank\", \"orbit\", \"character\", \"launch\", \"develop\", \"escrow\", \"project\", \"agency\", \"algorithm\", \"moon\", \"development\", \"encrypt\", \"bbs\", \"gateway\", \"pgp\", \"mission\", \"communication\", \"information\", \"research\", \"lab\", \"advance\", \"net\", \"institute\", \"message\", \"datum\", \"patient\", \"company\", \"design\", \"science\", \"public\", \"service\", \"access\", \"group\", \"provide\", \"program\", \"send\", \"center\", \"order\", \"list\", \"jim\", \"bit\", \"source\", \"window\", \"file\", \"card\", \"mac\", \"entry\", \"disk\", \"cpu\", \"memory\", \"graphic\", \"pin\", \"scsi\", \"screen\", \"jumper\", \"pc\", \"controller\", \"ide\", \"display\", \"drife\", \"score\", \"apple\", \"cd\", \"os\", \"dx\", \"printer\", \"ms\", \"motherboard\", \"print\", \"ibm\", \"ram\", \"ny\", \"mb\", \"sale\", \"install\", \"board\", \"bus\", \"mode\", \"driver\", \"drive\", \"software\", \"machine\", \"copy\", \"version\", \"set\", \"program\", \"bit\", \"support\", \"offer\", \"email\", \"law\", \"israel\", \"gun\", \"war\", \"country\", \"president\", \"weapon\", \"soldier\", \"jews\", \"village\", \"clinton\", \"crime\", \"turkish\", \"society\", \"murder\", \"arab\", \"policy\", \"muslim\", \"citizen\", \"land\", \"firearm\", \"court\", \"unite\", \"terrorist\", \"turk\", \"population\", \"peace\", \"amendment\", \"trial\", \"sex\", \"kill\", \"government\", \"protect\", \"attack\", \"arm\", \"mr\", \"death\", \"drug\", \"force\", \"member\", \"child\", \"issue\", \"public\", \"control\", \"group\", \"god\", \"jesus\", \"faith\", \"christian\", \"religion\", \"belief\", \"church\", \"truth\", \"christ\", \"existence\", \"greek\", \"conclusion\", \"freenet\", \"reality\", \"christianity\", \"atheism\", \"atheist\", \"revelation\", \"nature\", \"universe\", \"lord\", \"telnet\", \"meaning\", \"proof\", \"doctrine\", \"interpretation\", \"morality\", \"heaven\", \"session\", \"spirit\", \"evidence\", \"therefore\", \"argument\", \"sense\", \"claim\", \"word\", \"reason\", \"exist\", \"book\", \"explain\", \"life\", \"man\", \"prove\", \"example\", \"love\", \"understand\", \"however\", \"view\", \"rather\", \"science\", \"become\", \"team\", \"game\", \"play\", \"internet\", \"player\", \"hockey\", \"season\", \"fan\", \"gm\", \"san\", \"league\", \"nhl\", \"cup\", \"trade\", \"pt\", \"eye\", \"format\", \"playoff\", \"gary\", \"jeff\", \"pen\", \"baker\", \"circuit\", \"joshua\", \"equipment\", \"pegasus\", \"ta\", \"kevin\", \"winning\", \"scripture\", \"bob\", \"boston\", \"toronto\", \"wing\", \"vs\", \"st\", \"division\", \"series\", \"once\", \"john\", \"lose\", \"chicago\", \"mike\", \"dave\", \"max\", \"video\", \"color\", \"bike\", \"dn\", \"sphere\", \"engine\", \"family\", \"ride\", \"motif\", \"dod\", \"mm\", \"mhz\", \"rider\", \"mi\", \"seller\", \"ut\", \"motorcycle\", \"hawk\", \"mu\", \"mc\", \"nec\", \"mo\", \"saturn\", \"ww\", \"mk\", \"mv\", \"benefit\", \"lk\", \"sunday\", \"car\", \"el\", \"test\", \"nj\", \"manager\", \"dealer\", \"charle\", \"drive\", \"buy\", \"speed\", \"picture\", \"pl\", \"price\", \"model\", \"mr\"], \"Total\": [4052.0, 1746.0, 1734.0, 1887.0, 2230.0, 2121.0, 1793.0, 2061.0, 2009.0, 2744.0, 1874.0, 1777.0, 2402.0, 1613.0, 1607.0, 1348.0, 1851.0, 1683.0, 2097.0, 1501.0, 1177.0, 1410.0, 1311.0, 837.0, 1049.0, 913.0, 1064.0, 1316.0, 1705.0, 1407.0, 1073.541259765625, 1002.1953125, 850.1204833984375, 806.9254760742188, 787.0997924804688, 748.3762817382812, 534.8173217773438, 526.289306640625, 505.273193359375, 487.444091796875, 476.3033752441406, 471.7333984375, 470.9102783203125, 454.8916931152344, 441.7421569824219, 430.35601806640625, 413.2453918457031, 396.5256652832031, 393.1444396972656, 383.58245849609375, 379.8377685546875, 370.1044921875, 368.6235046386719, 365.3265380859375, 359.4542541503906, 354.85845947265625, 345.6903381347656, 342.3330078125, 340.17462158203125, 335.8119812011719, 718.1786499023438, 1529.3905029296875, 769.5094604492188, 778.073486328125, 1097.699462890625, 614.8152465820312, 1668.933837890625, 690.5188598632812, 1101.1868896484375, 1291.9781494140625, 976.2315673828125, 739.4601440429688, 955.02392578125, 919.6098022460938, 983.7045288085938, 1755.6280517578125, 952.1034545898438, 1159.0169677734375, 697.9824829101562, 1071.38232421875, 1691.703125, 1075.0341796875, 1698.43896484375, 1472.5450439453125, 1523.669921875, 1147.154296875, 1231.6634521484375, 1704.0054931640625, 1485.8724365234375, 1439.867431640625, 1188.65576171875, 1176.9412841796875, 1403.512451171875, 1449.3323974609375, 1466.0015869140625, 1447.5782470703125, 1851.2183837890625, 1683.48779296875, 1410.068115234375, 968.544189453125, 832.5662231445312, 724.5719604492188, 653.1365356445312, 637.2453002929688, 565.4473266601562, 557.4684448242188, 528.1669921875, 522.6607666015625, 510.29510498046875, 507.7608947753906, 505.1325378417969, 470.7065734863281, 463.3963928222656, 461.06890869140625, 434.5074768066406, 427.58770751953125, 425.0264892578125, 417.8427429199219, 412.84503173828125, 409.1879577636719, 410.9909362792969, 403.5150146484375, 402.1241760253906, 400.28729248046875, 369.2369689941406, 358.3902587890625, 602.9573364257812, 1705.727783203125, 1480.4180908203125, 568.8015747070312, 740.5046997070312, 685.31396484375, 809.228759765625, 1348.779052734375, 1414.5704345703125, 749.2926025390625, 897.3821411132812, 724.7840576171875, 1552.1796875, 1536.3463134765625, 1118.5369873046875, 938.5291748046875, 2094.68994140625, 1413.7554931640625, 2097.419189453125, 1559.627685546875, 1158.3612060546875, 1598.0748291015625, 1314.3714599609375, 1095.2916259765625, 1788.412841796875, 1348.9715576171875, 2230.916259765625, 2061.7568359375, 1874.9908447265625, 1064.036376953125, 976.96923828125, 911.4325561523438, 905.951171875, 861.0851440429688, 843.4308471679688, 770.27099609375, 711.019287109375, 690.6610717773438, 687.0037841796875, 644.6721801757812, 627.050048828125, 622.4276123046875, 617.7183227539062, 570.9094848632812, 560.4878540039062, 542.8372802734375, 521.8505249023438, 508.33514404296875, 451.2826232910156, 424.9984436035156, 419.4520568847656, 417.1586608886719, 413.3977966308594, 407.2147216796875, 406.0319519042969, 410.83111572265625, 1043.41357421875, 1145.1729736328125, 883.02001953125, 688.337158203125, 718.8135986328125, 683.3515014648438, 1316.787109375, 2744.57666015625, 1407.7681884765625, 1365.6331787109375, 993.0277709960938, 1387.8109130859375, 1621.21435546875, 2097.419189453125, 1788.412841796875, 1592.852294921875, 814.1610717773438, 1124.4677734375, 2009.305419921875, 1613.4222412109375, 1607.5208740234375, 792.0768432617188, 754.7677612304688, 730.9530029296875, 680.1489868164062, 657.9117431640625, 654.2526245117188, 618.1092529296875, 601.5343627929688, 566.0737915039062, 521.114013671875, 520.0908813476562, 498.3370666503906, 490.2284240722656, 490.74102783203125, 454.09527587890625, 453.39239501953125, 428.76947021484375, 427.10235595703125, 425.1625061035156, 425.164794921875, 419.4512939453125, 396.3066711425781, 391.6249084472656, 375.16693115234375, 364.683349609375, 341.7629089355469, 336.08868408203125, 819.67724609375, 1777.9801025390625, 471.4870300292969, 753.0167846679688, 628.5830078125, 1330.39111328125, 1029.1824951171875, 609.0973510742188, 982.593505859375, 703.33203125, 1325.63037109375, 1499.10302734375, 1536.3463134765625, 968.208984375, 2094.68994140625, 4052.803955078125, 1177.796875, 1049.8309326171875, 972.731689453125, 733.6724243164062, 729.0960083007812, 691.1270751953125, 692.4694213867188, 542.8277587890625, 492.10888671875, 476.8070373535156, 474.58935546875, 461.20416259765625, 442.3449401855469, 437.969482421875, 437.5569152832031, 383.6296691894531, 355.79180908203125, 353.1181640625, 346.9221496582031, 321.2945251464844, 315.9772033691406, 288.86163330078125, 286.75091552734375, 280.8382263183594, 259.08343505859375, 252.0653839111328, 248.67506408691406, 250.35345458984375, 244.04136657714844, 2121.22900390625, 348.1181335449219, 753.9723510742188, 1311.9207763671875, 1501.337890625, 999.3553466796875, 2402.814453125, 1293.796142578125, 1397.471923828125, 757.5120849609375, 1316.6217041015625, 1806.9342041015625, 562.8165283203125, 973.4525756835938, 779.9116821289062, 846.1834106445312, 1575.8839111328125, 910.536865234375, 1117.2308349609375, 1552.1796875, 1084.35791015625, 1887.226318359375, 1793.7135009765625, 1348.4444580078125, 913.9928588867188, 871.5428466796875, 853.89306640625, 616.8055419921875, 560.7116088867188, 562.2769775390625, 541.1714477539062, 518.4120483398438, 485.2953796386719, 456.012939453125, 447.8717956542969, 424.5193176269531, 418.33551025390625, 385.3269958496094, 376.2762145996094, 369.10302734375, 345.55706787109375, 317.2447814941406, 347.15069580078125, 278.00439453125, 272.3199157714844, 263.73590087890625, 251.2440643310547, 262.8788146972656, 246.65464782714844, 239.3050537109375, 237.83914184570312, 677.2649536132812, 385.4746398925781, 452.7854309082031, 602.154052734375, 971.9758911132812, 1284.9669189453125, 725.8972778320312, 510.7530212402344, 563.8816528320312, 1273.6854248046875, 999.2595825195312, 532.4774169921875, 585.0811767578125, 587.5094604492188, 1746.4598388671875, 837.8391723632812, 764.9500122070312, 723.8201904296875, 647.0692138671875, 559.1959228515625, 481.5097351074219, 478.03240966796875, 469.93511962890625, 438.4813537597656, 419.0099792480469, 364.39471435546875, 363.0087585449219, 346.5572509765625, 323.08636474609375, 344.2002868652344, 270.0276184082031, 254.7978973388672, 252.58004760742188, 250.37486267089844, 249.9298858642578, 248.07510375976562, 245.9536895751953, 243.9098663330078, 248.72854614257812, 242.13731384277344, 234.623046875, 228.69654846191406, 226.58778381347656, 226.86595153808594, 1734.61962890625, 390.3651428222656, 874.8311157226562, 294.63140869140625, 480.44354248046875, 420.1947937011719, 306.8094482421875, 2744.57666015625, 1431.13916015625, 730.4772338867188, 546.696044921875, 693.658935546875, 1117.619873046875, 789.791259765625, 1330.39111328125], \"loglift\": [30.0, 29.0, 28.0, 27.0, 26.0, 25.0, 24.0, 23.0, 22.0, 21.0, 20.0, 19.0, 18.0, 17.0, 16.0, 15.0, 14.0, 13.0, 12.0, 11.0, 10.0, 9.0, 8.0, 7.0, 6.0, 5.0, 4.0, 3.0, 2.0, 1.0, 1.3839000463485718, 1.3838000297546387, 1.3837000131607056, 1.3835999965667725, 1.3835999965667725, 1.3834999799728394, 1.3831000328063965, 1.3830000162124634, 1.3830000162124634, 1.3828999996185303, 1.3828999996185303, 1.3827999830245972, 1.3827999830245972, 1.3827999830245972, 1.382699966430664, 1.382599949836731, 1.382599949836731, 1.3825000524520874, 1.3824000358581543, 1.3824000358581543, 1.3824000358581543, 1.3823000192642212, 1.3823000192642212, 1.3823000192642212, 1.382200002670288, 1.382200002670288, 1.382099986076355, 1.382099986076355, 1.382099986076355, 1.382099986076355, 1.373900055885315, 1.354099988937378, 1.3623000383377075, 1.3614000082015991, 1.3446999788284302, 1.3610999584197998, 1.318600058555603, 1.3530000448226929, 1.3289999961853027, 1.3180999755859375, 1.332800030708313, 1.3380000591278076, 1.2984000444412231, 1.2939000129699707, 1.2829999923706055, 1.1859999895095825, 1.2680000066757202, 1.229599952697754, 1.3116999864578247, 1.2271000146865845, 1.097100019454956, 1.1993999481201172, 1.0677000284194946, 1.093500018119812, 1.083299994468689, 1.1571999788284302, 1.1332999467849731, 0.9937999844551086, 1.0371999740600586, 1.0365999937057495, 1.1115000247955322, 1.090399980545044, 0.9491999745368958, 0.8956000208854675, 0.8787000179290771, 0.8884999752044678, 1.6832000017166138, 1.6830999851226807, 1.6829999685287476, 1.682800054550171, 1.6826000213623047, 1.6823999881744385, 1.6822999715805054, 1.6822999715805054, 1.6821000576019287, 1.6821000576019287, 1.6820000410079956, 1.6820000410079956, 1.6819000244140625, 1.6819000244140625, 1.6819000244140625, 1.6818000078201294, 1.6816999912261963, 1.6816999912261963, 1.6815999746322632, 1.6815999746322632, 1.6815999746322632, 1.68149995803833, 1.68149995803833, 1.68149995803833, 1.68149995803833, 1.681399941444397, 1.681399941444397, 1.681399941444397, 1.6812000274658203, 1.6812000274658203, 1.657099962234497, 1.5592999458312988, 1.5393999814987183, 1.62090003490448, 1.5663000345230103, 1.5566999912261963, 1.5085999965667725, 1.3169000148773193, 1.3015999794006348, 1.4936000108718872, 1.4311000108718872, 1.5029000043869019, 1.1829999685287476, 1.1758999824523926, 1.3028000593185425, 1.3758000135421753, 0.9136000275611877, 1.1155999898910522, 0.8939999938011169, 1.0232000350952148, 1.1944999694824219, 0.9240000247955322, 1.0435999631881714, 1.1693999767303467, 0.7010999917984009, 0.8959000110626221, 1.975600004196167, 1.975600004196167, 1.9754999876022339, 1.9752000570297241, 1.975100040435791, 1.975000023841858, 1.975000023841858, 1.975000023841858, 1.975000023841858, 1.9749000072479248, 1.9747999906539917, 1.9746999740600586, 1.9746999740600586, 1.9745999574661255, 1.9745999574661255, 1.9745999574661255, 1.9745999574661255, 1.9744000434875488, 1.9744000434875488, 1.9744000434875488, 1.9743000268936157, 1.9742000102996826, 1.9739999771118164, 1.9738999605178833, 1.9738999605178833, 1.9738999605178833, 1.9737999439239502, 1.9737999439239502, 1.9737999439239502, 1.9737999439239502, 1.955899953842163, 1.899999976158142, 1.9184000492095947, 1.9256999492645264, 1.9179999828338623, 1.9084999561309814, 1.7920000553131104, 1.6390999555587769, 1.732200026512146, 1.7216999530792236, 1.774399995803833, 1.6505000591278076, 1.5499000549316406, 1.370300054550171, 1.2604000568389893, 1.2173999547958374, 1.7582000494003296, 1.4735000133514404, 2.0137999057769775, 2.013700008392334, 2.013700008392334, 2.0130999088287354, 2.0130999088287354, 2.013000011444092, 2.0129001140594482, 2.0129001140594482, 2.0129001140594482, 2.0127999782562256, 2.0127999782562256, 2.012700080871582, 2.012500047683716, 2.012500047683716, 2.012399911880493, 2.012399911880493, 2.012399911880493, 2.0123000144958496, 2.0123000144958496, 2.0120999813079834, 2.0120999813079834, 2.0120999813079834, 2.0120999813079834, 2.0120999813079834, 2.01200008392334, 2.01200008392334, 2.0118000507354736, 2.0118000507354736, 2.0116000175476074, 2.0116000175476074, 2.007200002670288, 1.9850000143051147, 1.979200005531311, 1.9093999862670898, 1.9265999794006348, 1.7568999528884888, 1.694000005722046, 1.8763999938964844, 1.659000039100647, 1.7896000146865845, 1.382599949836731, 1.2240999937057495, 1.0921000242233276, 1.4401999711990356, 0.6898999810218811, 2.059799909591675, 2.059299945831299, 2.0592000484466553, 2.0590999126434326, 2.058799982070923, 2.058799982070923, 2.0587000846862793, 2.0587000846862793, 2.058300018310547, 2.058199882507324, 2.0580999851226807, 2.0580999851226807, 2.058000087738037, 2.058000087738037, 2.0578999519348145, 2.0578999519348145, 2.0576000213623047, 2.057499885559082, 2.0573999881744385, 2.0573999881744385, 2.0571999549865723, 2.056999921798706, 2.05679988861084, 2.05679988861084, 2.05679988861084, 2.05649995803833, 2.0564000606536865, 2.056299924850464, 2.056299924850464, 2.056299924850464, 2.044600009918213, 2.0511999130249023, 2.0058000087738037, 1.9564000368118286, 1.9026999473571777, 1.8746999502182007, 1.7431000471115112, 1.7913000583648682, 1.6651999950408936, 1.8286000490188599, 1.6260000467300415, 1.434499979019165, 1.8662999868392944, 1.500100016593933, 1.621500015258789, 1.5666999816894531, 1.107200026512146, 1.503000020980835, 1.3279000520706177, 0.9847999811172485, 1.2589999437332153, 2.3441998958587646, 2.344099998474121, 2.3440001010894775, 2.343600034713745, 2.343600034713745, 2.343600034713745, 2.3431999683380127, 2.3429999351501465, 2.3429999351501465, 2.3429999351501465, 2.342900037765503, 2.3427999019622803, 2.3427000045776367, 2.342600107192993, 2.3424999713897705, 2.3424999713897705, 2.3422999382019043, 2.3422000408172607, 2.3422000408172607, 2.3420000076293945, 2.3417999744415283, 2.3417999744415283, 2.341399908065796, 2.341200113296509, 2.341200113296509, 2.3410000801086426, 2.3410000801086426, 2.34089994430542, 2.3408000469207764, 2.3408000469207764, 2.2567999362945557, 2.2992000579833984, 2.255199909210205, 2.1933999061584473, 2.111299991607666, 1.9946000576019287, 2.117799997329712, 2.160399913787842, 2.128200054168701, 1.4818999767303467, 1.5902999639511108, 2.024600028991699, 1.936400055885315, 1.9323999881744385, 2.6796000003814697, 2.678999900817871, 2.6789000034332275, 2.6789000034332275, 2.6784000396728516, 2.6784000396728516, 2.678299903869629, 2.6782000064849854, 2.6782000064849854, 2.678100109100342, 2.677999973297119, 2.6775999069213867, 2.6775999069213867, 2.677500009536743, 2.677299976348877, 2.677299976348877, 2.676800012588501, 2.6765999794006348, 2.676500082015991, 2.676500082015991, 2.676500082015991, 2.676500082015991, 2.676500082015991, 2.6763999462127686, 2.6763999462127686, 2.6763999462127686, 2.676300048828125, 2.676100015640259, 2.676100015640259, 2.676100015640259, 2.6735000610351562, 2.5796000957489014, 2.3566999435424805, 2.609299898147583, 2.4316000938415527, 2.459199905395508, 2.566999912261963, 1.264299988746643, 1.4092999696731567, 1.878100037574768, 2.0752999782562256, 1.8260999917984009, 1.4154000282287598, 1.6943000555038452, 1.1004999876022339], \"logprob\": [30.0, 29.0, 28.0, 27.0, 26.0, 25.0, 24.0, 23.0, 22.0, 21.0, 20.0, 19.0, 18.0, 17.0, 16.0, 15.0, 14.0, 13.0, 12.0, 11.0, 10.0, 9.0, 8.0, 7.0, 6.0, 5.0, 4.0, 3.0, 2.0, 1.0, -5.4415998458862305, -5.51039981842041, -5.675099849700928, -5.72730016708374, -5.752299785614014, -5.802700042724609, -6.139200210571289, -6.155300140380859, -6.196100234985352, -6.232100009918213, -6.255300045013428, -6.264900207519531, -6.26669979095459, -6.301400184631348, -6.3308000564575195, -6.356900215148926, -6.397600173950195, -6.439000129699707, -6.4475998878479, -6.4721999168396, -6.482100009918213, -6.5081000328063965, -6.5121002197265625, -6.521100044250488, -6.537399768829346, -6.550300121307373, -6.576499938964844, -6.586299896240234, -6.592599868774414, -6.605599880218506, -5.853600025177002, -5.117499828338623, -5.79610013961792, -5.785999774932861, -5.458499908447266, -6.0218000411987305, -5.065700054168701, -5.91379976272583, -5.471099853515625, -5.322199821472168, -5.587699890136719, -5.860300064086914, -5.644100189208984, -5.686399936676025, -5.629899978637695, -5.14769983291626, -5.677499771118164, -5.5192999839782715, -5.944300174713135, -5.600399971008301, -5.273600101470947, -5.62470006942749, -5.299099922180176, -5.415900230407715, -5.392000198364258, -5.6020002365112305, -5.554800033569336, -5.369699954986572, -5.463200092315674, -5.495299816131592, -5.612100124359131, -5.643099784851074, -5.60830020904541, -5.629700183868408, -5.635200023651123, -5.638000011444092, -4.597400188446045, -4.692399978637695, -4.869800090789795, -5.24560022354126, -5.39709997177124, -5.536200046539307, -5.640100002288818, -5.66480016708374, -5.7845001220703125, -5.798699855804443, -5.852799892425537, -5.86329984664917, -5.88730001449585, -5.892300128936768, -5.897500038146973, -5.968200206756592, -5.98390007019043, -5.988900184631348, -6.048399925231934, -6.064499855041504, -6.070499897003174, -6.087600231170654, -6.099599838256836, -6.108500003814697, -6.1041998863220215, -6.122499942779541, -6.125999927520752, -6.1305999755859375, -6.21150016784668, -6.241399765014648, -5.745299816131592, -4.803199768066406, -4.964799880981445, -5.839799880981445, -5.6305999755859375, -5.717599868774414, -5.5995001792907715, -5.280300140380859, -5.248000144958496, -5.691500186920166, -5.573599815368652, -5.715400218963623, -5.273799896240234, -5.291100025177002, -5.481599807739258, -5.584099769592285, -5.2434000968933105, -5.434599876403809, -5.26170015335083, -5.428699970245361, -5.554900169372559, -5.503699779510498, -5.579500198364258, -5.636099815368652, -5.614099979400635, -5.701200008392334, -4.1184000968933105, -4.197299957275391, -4.292300224304199, -4.8592000007629395, -4.9446001052856445, -5.014100074768066, -5.020199775695801, -5.071000099182129, -5.091800212860107, -5.182600021362305, -5.262700080871582, -5.291800022125244, -5.297100067138672, -5.360799789428711, -5.388599872589111, -5.395999908447266, -5.403600215911865, -5.482500076293945, -5.500999927520752, -5.5329999923706055, -5.572500228881836, -5.598800182342529, -5.718100070953369, -5.778200149536133, -5.791399955749512, -5.796899795532227, -5.8059000968933105, -5.821000099182129, -5.823999881744385, -5.81220006942749, -4.898099899291992, -4.860899925231934, -5.102499961853027, -5.344200134277344, -5.308599948883057, -5.36870002746582, -4.8292999267578125, -4.247700214385986, -4.822199821472168, -4.8632001876831055, -5.1290998458862305, -4.9182000160217285, -4.863399982452393, -4.7855000495910645, -5.054699897766113, -5.213500022888184, -5.343800067901611, -5.305600166320801, -4.184800148010254, -4.404399871826172, -4.4079999923706055, -5.116399765014648, -5.164700031280518, -5.196800231933594, -5.269000053405762, -5.302199840545654, -5.307799816131592, -5.364699840545654, -5.392000198364258, -5.4527997970581055, -5.535699844360352, -5.537700176239014, -5.58050012588501, -5.59689998626709, -5.595900058746338, -5.673600196838379, -5.67519998550415, -5.731100082397461, -5.735000133514404, -5.73960018157959, -5.73960018157959, -5.7530999183654785, -5.809999942779541, -5.821899890899658, -5.864999771118164, -5.893400192260742, -5.958499908447266, -5.975299835205078, -5.088099956512451, -4.335899829864502, -5.669099807739258, -5.270699977874756, -5.434100151062012, -4.854100227355957, -5.173699855804443, -5.515900135040283, -5.255000114440918, -5.458700180053711, -5.231900215148926, -5.267399787902832, -5.374899864196777, -5.488500118255615, -5.467199802398682, -3.4372000694274902, -4.673500061035156, -4.788599967956543, -4.864999771118164, -5.147299766540527, -5.153600215911865, -5.207200050354004, -5.2052001953125, -5.449100017547607, -5.547299861907959, -5.578999996185303, -5.583600044250488, -5.612299919128418, -5.654200077056885, -5.664100170135498, -5.664999961853027, -5.796899795532227, -5.872399806976318, -5.880000114440918, -5.89769983291626, -5.974699974060059, -5.991499900817871, -6.081399917602539, -6.088799953460693, -6.1097002029418945, -6.1905999183654785, -6.218100070953369, -6.2316999435424805, -6.224999904632568, -6.2505998611450195, -4.099899768829346, -5.9004998207092285, -5.173099994659424, -4.668499946594238, -4.587299823760986, -5.02239990234375, -4.276700019836426, -4.847499847412109, -4.896500110626221, -5.345600128173828, -4.995299816131592, -4.870299816131592, -5.604899883270264, -5.423299789428711, -5.523499965667725, -5.496799945831299, -5.334400177001953, -5.487199783325195, -5.457699775695801, -5.4720001220703125, -5.556399822235107, -3.9172000885009766, -3.9679999351501465, -4.253499984741211, -4.6427001953125, -4.690299987792969, -4.7108001708984375, -5.036499977111816, -5.131999969482422, -5.129199981689453, -5.167500019073486, -5.2104997634887695, -5.276700019836426, -5.339000225067139, -5.357100009918213, -5.410699844360352, -5.4253997802734375, -5.507800102233887, -5.531599998474121, -5.550899982452393, -5.617000102996826, -5.702700138092041, -5.61269998550415, -5.83519983291626, -5.855999946594238, -5.8881001472473145, -5.936800003051758, -5.891499996185303, -5.9552998542785645, -5.985599994659424, -5.991799831390381, -5.029399871826172, -5.55049991607666, -5.433599948883057, -5.210299968719482, -4.813600063323975, -4.651100158691406, -5.098999977111816, -5.407899856567383, -5.341100215911865, -5.172599792480469, -5.3069000244140625, -5.502099990844727, -5.495999813079834, -5.4959001541137695, -3.6591999530792236, -4.3942999839782715, -4.485400199890137, -4.540800094604492, -4.653299808502197, -4.799300193786621, -4.948999881744385, -4.956299781799316, -4.973400115966797, -5.042799949645996, -5.0883002281188965, -5.228300094604492, -5.232100009918213, -5.278600215911865, -5.348899841308594, -5.285699844360352, -5.528900146484375, -5.587100028991699, -5.595900058746338, -5.604700088500977, -5.606500148773193, -5.613999843597412, -5.622600078582764, -5.63100004196167, -5.611400127410889, -5.638299942016602, -5.669899940490723, -5.695700168609619, -5.704899787902832, -5.703700065612793, -3.672100067138672, -5.257599830627441, -4.673500061035156, -5.509200096130371, -5.19789981842041, -5.304299831390381, -5.511000156402588, -4.622499942779541, -5.128699779510498, -5.332399845123291, -5.425000190734863, -5.436100006103516, -5.369900226593018, -5.438199996948242, -5.51039981842041]}, \"token.table\": {\"Topic\": [2, 3, 1, 1, 2, 3, 5, 1, 2, 2, 1, 2, 4, 1, 3, 5, 3, 4, 4, 5, 1, 4, 1, 5, 5, 1, 4, 6, 2, 2, 1, 2, 4, 5, 5, 7, 7, 1, 2, 3, 5, 1, 2, 3, 6, 3, 5, 6, 2, 3, 5, 4, 6, 1, 1, 3, 1, 2, 3, 7, 1, 7, 3, 1, 2, 4, 5, 3, 1, 2, 4, 2, 5, 7, 1, 6, 1, 4, 5, 2, 5, 5, 5, 5, 6, 4, 4, 5, 4, 2, 1, 3, 5, 6, 7, 1, 1, 1, 2, 1, 2, 5, 1, 2, 3, 4, 3, 1, 2, 3, 4, 1, 6, 1, 5, 4, 3, 4, 6, 2, 3, 2, 6, 7, 1, 1, 2, 7, 4, 5, 1, 2, 7, 2, 2, 3, 3, 2, 4, 6, 7, 5, 7, 1, 5, 6, 3, 1, 3, 4, 7, 3, 7, 2, 4, 3, 1, 3, 7, 2, 3, 2, 2, 1, 2, 3, 5, 6, 7, 7, 1, 5, 3, 6, 2, 4, 5, 2, 3, 4, 5, 2, 3, 4, 5, 5, 1, 4, 5, 6, 1, 4, 5, 7, 6, 1, 4, 5, 6, 3, 4, 1, 1, 2, 4, 6, 5, 1, 3, 6, 6, 2, 6, 5, 2, 4, 3, 5, 1, 2, 3, 4, 5, 1, 4, 1, 1, 4, 5, 1, 4, 5, 7, 1, 2, 1, 5, 5, 6, 1, 2, 3, 4, 5, 3, 3, 2, 3, 4, 2, 3, 2, 3, 4, 6, 1, 6, 5, 4, 2, 3, 4, 5, 6, 5, 4, 2, 5, 1, 2, 3, 5, 6, 6, 3, 1, 5, 1, 2, 4, 5, 6, 6, 1, 1, 4, 1, 2, 5, 2, 4, 7, 4, 2, 4, 6, 1, 6, 1, 4, 5, 1, 7, 1, 2, 3, 6, 7, 1, 3, 6, 1, 2, 3, 5, 5, 1, 5, 6, 1, 5, 3, 2, 3, 4, 1, 4, 5, 6, 1, 7, 1, 7, 1, 5, 6, 3, 7, 7, 5, 2, 4, 5, 3, 2, 3, 4, 5, 7, 7, 3, 6, 7, 1, 2, 7, 7, 7, 2, 3, 2, 3, 5, 7, 1, 2, 1, 2, 2, 5, 3, 7, 7, 1, 4, 5, 7, 3, 7, 4, 4, 7, 2, 5, 7, 2, 3, 2, 1, 2, 3, 6, 6, 1, 2, 7, 1, 3, 1, 3, 4, 5, 6, 7, 1, 3, 4, 5, 6, 2, 1, 2, 3, 4, 5, 3, 2, 1, 1, 2, 3, 4, 6, 6, 1, 2, 2, 2, 6, 7, 3, 2, 7, 1, 2, 3, 4, 5, 6, 6, 6, 4, 4, 1, 2, 3, 4, 6, 4, 1, 3, 7, 3, 3, 1, 2, 3, 5, 6, 2, 3, 2, 5, 1, 4, 1, 4, 5, 2, 3, 4, 5, 6, 2, 4, 1, 1, 3, 5, 6, 1, 3, 1, 2, 4, 5, 5, 1, 4, 5, 5, 1, 5, 6, 2, 4, 5, 7, 7, 2, 3, 6, 6, 7, 2, 5, 6, 3, 3, 6, 3, 6, 1, 7, 1, 2, 3, 4, 6, 1, 2, 5, 2, 3, 6, 2, 1, 2, 5, 1, 2, 3, 4, 5, 4, 1, 3, 4, 5, 6, 1, 1, 4, 2, 3, 4, 2, 3, 4, 5, 2, 2, 3, 7, 7, 5, 3, 6, 7, 1, 7, 2, 3, 4, 5, 6, 1, 5, 6, 2, 5, 4, 5, 7, 4, 5, 1, 5, 6, 2, 1, 6, 2, 6, 6, 1, 4, 5, 4, 4, 1, 1, 2, 4, 5, 4, 5, 7, 2, 3, 5, 7, 1, 2, 3, 4, 5, 4, 1, 3, 6, 4, 4, 1, 3, 4, 6, 6, 1, 3, 5, 7], \"Freq\": [0.7351928949356079, 0.2642432451248169, 0.9974802136421204, 0.7967541813850403, 0.016562724485993385, 0.047944728285074234, 0.13773213326931, 0.10938485711812973, 0.8885831236839294, 0.9979830980300903, 0.9975501894950867, 0.9979531764984131, 0.998126208782196, 0.7283158302307129, 0.028261244297027588, 0.24316446483135223, 0.9984576106071472, 0.9974941611289978, 0.05172603577375412, 0.9469843506813049, 0.08272574841976166, 0.9163467288017273, 0.9975808262825012, 0.9987272024154663, 0.9983586668968201, 0.09827138483524323, 0.9003783464431763, 0.9966853260993958, 0.9977579116821289, 0.9972044229507446, 0.4408138692378998, 0.019366299733519554, 0.09037606418132782, 0.4491136968135834, 0.9984967708587646, 0.9969542622566223, 0.998866856098175, 0.11574508994817734, 0.37407469749450684, 0.4887014925479889, 0.0206887349486351, 0.029055528342723846, 0.010169435292482376, 0.9515685439109802, 0.008716658689081669, 0.041342757642269135, 0.041342757642269135, 0.9154467582702637, 0.27406632900238037, 0.051521606743335724, 0.6740743517875671, 0.04150727018713951, 0.9546672105789185, 0.9990889430046082, 0.05564725026488304, 0.9432209134101868, 0.45697861909866333, 0.002794976346194744, 0.2599327862262726, 0.2808951139450073, 0.006341448053717613, 0.9933013319969177, 0.9994715452194214, 0.7605229616165161, 0.007571578025817871, 0.015984442085027695, 0.2153693288564682, 0.9983701705932617, 0.16488811373710632, 0.6129348874092102, 0.22100187838077545, 0.9969866275787354, 0.10429926216602325, 0.8930624723434448, 0.2723120152950287, 0.7267913818359375, 0.15011726319789886, 0.5318224430084229, 0.317584753036499, 0.9997102618217468, 0.9984750747680664, 0.9992477893829346, 0.9977864027023315, 0.9983692169189453, 0.9963871240615845, 0.9969289302825928, 0.1452038288116455, 0.8545711040496826, 0.9991116523742676, 0.9993199110031128, 0.9134308695793152, 0.034797366708517075, 0.02609802596271038, 0.0250106081366539, 0.99875807762146, 0.9968490600585938, 0.9986819624900818, 0.024877382442355156, 0.973534882068634, 0.22287049889564514, 0.7767036557197571, 0.9987581968307495, 0.0030985046178102493, 0.2706027328968048, 0.16215507686138153, 0.5628949999809265, 0.9983254075050354, 0.006042127031832933, 0.17622870206832886, 0.8177012205123901, 0.9989827871322632, 0.9298227429389954, 0.06876963376998901, 0.7396615147590637, 0.2598988115787506, 0.9972657561302185, 0.9989500641822815, 0.9981030821800232, 0.9977787137031555, 0.6821858882904053, 0.3167039155960083, 0.10212601721286774, 0.6621170043945312, 0.233187735080719, 0.9984815120697021, 0.11899243295192719, 0.07853500545024872, 0.8020089864730835, 0.7258188128471375, 0.2730322480201721, 0.02483498305082321, 0.83473140001297, 0.13935184478759766, 0.9988320469856262, 0.9975889325141907, 0.9995254278182983, 0.9988371133804321, 0.14189335703849792, 0.06061463803052902, 0.7976335287094116, 0.9983475804328918, 0.9970152974128723, 0.9975895881652832, 0.9453436136245728, 0.04631366580724716, 0.007264888379722834, 0.9984069466590881, 0.017124680802226067, 0.7141356468200684, 0.025869200006127357, 0.24266037344932556, 0.831569492816925, 0.16783274710178375, 0.12805834412574768, 0.8717818260192871, 0.9971578121185303, 0.9969863295555115, 0.09478305280208588, 0.9042815566062927, 0.39396417140960693, 0.6047305464744568, 0.9987236857414246, 0.9992105960845947, 0.6766409873962402, 0.03990597650408745, 0.0786382406949997, 0.12734700739383698, 0.04753505811095238, 0.030516333878040314, 0.9989413619041443, 0.9357743263244629, 0.06424257159233093, 0.9990079402923584, 0.9972097277641296, 0.9986255168914795, 0.015085593797266483, 0.9848064184188843, 0.2722269296646118, 0.08834534138441086, 0.06779991090297699, 0.5711628794670105, 0.11052745580673218, 0.060287706553936005, 0.06492522358894348, 0.7644171714782715, 0.9977466464042664, 0.16633397340774536, 0.039603330194950104, 0.793386697769165, 0.9968075752258301, 0.9767714738845825, 0.021848836913704872, 0.9992085099220276, 0.9978402853012085, 0.9987308979034424, 0.7066555619239807, 0.07335757464170456, 0.1951715350151062, 0.024901196360588074, 0.9996328949928284, 0.997418999671936, 0.9984453320503235, 0.28394243121147156, 0.014248007908463478, 0.7012055516242981, 0.9965561628341675, 0.9973890781402588, 0.9886119365692139, 0.009746878407895565, 0.999602198600769, 0.9970116019248962, 0.9967840909957886, 0.9977289438247681, 0.9998016357421875, 0.02812179923057556, 0.9713269472122192, 0.9994891881942749, 0.9983074069023132, 0.03150824457406998, 0.4630756974220276, 0.06826785951852798, 0.26591047644615173, 0.1713857501745224, 0.9981609582901001, 0.999675989151001, 0.9972635507583618, 0.8540368676185608, 0.01680072583258152, 0.12880556285381317, 0.9172545075416565, 0.052354708313941956, 0.029318636283278465, 0.997703492641449, 0.9759029150009155, 0.022771067917346954, 0.9696673154830933, 0.029423486441373825, 0.9972853660583496, 0.9989541172981262, 0.27920839190483093, 0.11295248568058014, 0.12310551106929779, 0.09899206459522247, 0.38581523299217224, 0.9970170259475708, 0.9993129968643188, 0.8829075694084167, 0.08793900161981583, 0.028726741671562195, 0.055491380393505096, 0.9444859623908997, 0.8390704989433289, 0.071673184633255, 0.05313701555132866, 0.0358365923166275, 0.9980397820472717, 0.9989137053489685, 0.9958181977272034, 0.9997382760047913, 0.2614896893501282, 0.044693391770124435, 0.4536045789718628, 0.24014359712600708, 0.9983879327774048, 0.9993234276771545, 0.9980854392051697, 0.598014235496521, 0.40171951055526733, 0.25437992811203003, 0.06438010185956955, 0.029834682121872902, 0.22847086191177368, 0.42239630222320557, 0.9951530694961548, 0.9985389113426208, 0.9037266373634338, 0.09555714577436447, 0.8196496963500977, 0.013100724667310715, 0.13043765723705292, 0.03531499579548836, 0.0011391934240236878, 0.9973458647727966, 0.9988530874252319, 0.006099962163716555, 0.9930738210678101, 0.8306712508201599, 0.0009302030084654689, 0.16743654012680054, 0.9388159513473511, 0.015822740271687508, 0.043952059000730515, 0.9982054233551025, 0.9976816773414612, 0.9993503093719482, 0.9992051720619202, 0.8896092176437378, 0.10923182964324951, 0.23165348172187805, 0.1200040951371193, 0.6478702425956726, 0.9688366651535034, 0.030411913990974426, 0.02967197634279728, 0.527248203754425, 0.21226875483989716, 0.22976762056350708, 0.9974059462547302, 0.9359268546104431, 0.002396739786490798, 0.061716046184301376, 0.7778098583221436, 0.11366741359233856, 0.0008119100821204484, 0.10717213153839111, 0.9959709048271179, 0.5053741931915283, 0.023017041385173798, 0.4703482687473297, 0.353886216878891, 0.6449448466300964, 0.9990260004997253, 0.0695648044347763, 0.7754644751548767, 0.1545070856809616, 0.3669198453426361, 0.08633407950401306, 0.5351606011390686, 0.01106847170740366, 0.21854804456233978, 0.7805287837982178, 0.9986027479171753, 0.9997367262840271, 0.9611009359359741, 0.01093195378780365, 0.027329884469509125, 0.9804357886314392, 0.019167855381965637, 0.9962794184684753, 0.9970171451568604, 0.14644576609134674, 0.7990536093711853, 0.05402853712439537, 0.9987397789955139, 0.6932195425033569, 0.1534721404314041, 0.07414112985134125, 0.07933100312948227, 0.9972211122512817, 0.9966375231742859, 0.08887655287981033, 0.6648650169372559, 0.24441052973270416, 0.9983199238777161, 0.996120810508728, 0.9953030347824097, 0.9961725473403931, 0.9961224794387817, 0.06438852846622467, 0.9350970983505249, 0.36338716745376587, 0.23550526797771454, 0.026589304208755493, 0.37351641058921814, 0.999495804309845, 0.9974620342254639, 0.9547505974769592, 0.044627152383327484, 0.9970967769622803, 0.9957733750343323, 0.9972224831581116, 0.9989022016525269, 0.9968684911727905, 0.9984717965126038, 0.772705078125, 0.020294783636927605, 0.20595447719097137, 0.9989222884178162, 0.9945088028907776, 0.9973169565200806, 0.9975879788398743, 0.9973444938659668, 0.998735785484314, 0.9968334436416626, 0.9956662058830261, 0.8813478946685791, 0.11819399893283844, 0.997790515422821, 0.6086027026176453, 0.08082464337348938, 0.06355442106723785, 0.24592798948287964, 0.9973307251930237, 0.027152569964528084, 0.0407288558781147, 0.9299755096435547, 0.9965469837188721, 0.9979770183563232, 0.13265188038349152, 0.8045091032981873, 0.01842387206852436, 0.042989037930965424, 0.8051334619522095, 0.1933029741048813, 0.6469482779502869, 0.028499925509095192, 0.08051228523254395, 0.24296186864376068, 0.000712498149368912, 0.9984989166259766, 0.23090283572673798, 0.4680631756782532, 0.046931467950344086, 0.1232733279466629, 0.13140811026096344, 0.9973735213279724, 0.9985014796257019, 0.9970157146453857, 0.17216238379478455, 0.8274471163749695, 0.9989573359489441, 0.996889591217041, 0.9950484037399292, 0.9960762858390808, 0.9986743330955505, 0.9966499209403992, 0.9994381070137024, 0.25608378648757935, 0.19572119414806366, 0.5469218492507935, 0.9983499646186829, 0.5737690329551697, 0.4252810478210449, 0.6133858561515808, 0.14351435005664825, 0.011729538440704346, 0.14903412759304047, 0.08279674500226974, 0.9996703863143921, 0.9993771314620972, 0.996608316898346, 0.9984899759292603, 0.998404324054718, 0.7501316070556641, 0.026009291410446167, 0.04847186058759689, 0.03901393711566925, 0.13595765829086304, 0.9986962080001831, 0.31674453616142273, 0.400851845741272, 0.2827437222003937, 0.9990377426147461, 0.997650682926178, 0.7476851344108582, 0.15483397245407104, 0.02173108421266079, 0.031238432973623276, 0.04482036083936691, 0.45389115810394287, 0.5454322099685669, 0.997584879398346, 0.9973812699317932, 0.03181423619389534, 0.9650318622589111, 0.06751756370067596, 0.10838345438241959, 0.8244249820709229, 0.5665760636329651, 0.07285559922456741, 0.1379304975271225, 0.22210347652435303, 0.9987766742706299, 0.6020777821540833, 0.3976967930793762, 0.9961060881614685, 0.8558977246284485, 0.05780760943889618, 0.08455441147089005, 0.0008628001669421792, 0.9963688850402832, 0.9974584579467773, 0.35265764594078064, 0.1467915028333664, 0.018796473741531372, 0.48065268993377686, 0.9969595074653625, 0.2197423130273819, 0.05160614848136902, 0.728312611579895, 0.9990834593772888, 0.9495697617530823, 0.04711996763944626, 0.0030730413272976875, 0.8652961254119873, 0.13374599814414978, 0.9977745413780212, 0.9980100989341736, 0.9983920454978943, 0.9982599020004272, 0.9264975786209106, 0.07247813045978546, 0.9978353381156921, 0.9962696433067322, 0.6062442660331726, 0.3414553105831146, 0.05218467861413956, 0.999129593372345, 0.9990428686141968, 0.9964718222618103, 0.9985664486885071, 0.9986940026283264, 0.9977943897247314, 0.9965128302574158, 0.08142969012260437, 0.5167900323867798, 0.2468537837266922, 0.07822379469871521, 0.07694143801927567, 0.07241290807723999, 0.025916198268532753, 0.9017312526702881, 0.998045802116394, 0.16642095148563385, 0.8321047425270081, 0.999208927154541, 0.31648483872413635, 0.6830350756645203, 0.9945937991142273, 0.09128959476947784, 0.07833634316921234, 0.6532140374183655, 0.0709344819188118, 0.10671013593673706, 0.9967607259750366, 0.6030007004737854, 0.02387446165084839, 0.0354706309735775, 0.256479948759079, 0.08117317408323288, 0.9980669617652893, 0.9980030059814453, 0.997902512550354, 0.21594464778900146, 0.7835096716880798, 0.9986141920089722, 0.45516157150268555, 0.3113482892513275, 0.07190663367509842, 0.16086329519748688, 0.9993418455123901, 0.027379361912608147, 0.5243147611618042, 0.44902151823043823, 0.9978613257408142, 0.995732843875885, 0.1361902803182602, 0.7042982578277588, 0.15798072516918182, 0.9970890283584595, 0.9961829781532288, 0.13937261700630188, 0.46834224462509155, 0.29067352414131165, 0.10170434415340424, 0.9966569542884827, 0.7063150405883789, 0.2937770485877991, 0.9993501901626587, 0.9992424845695496, 0.9969073534011841, 0.9989240765571594, 0.2754817306995392, 0.7235682010650635, 0.00574517622590065, 0.9910429120063782, 0.7451518774032593, 0.23195719718933105, 0.022091161459684372, 0.9991596937179565, 0.9772459268569946, 0.020792467519640923, 0.08392496407032013, 0.9143403768539429, 0.9980534911155701, 0.9975820183753967, 0.9977677464485168, 0.9993221163749695, 0.9967028498649597, 0.9978622198104858, 0.9988073110580444, 0.2517184913158417, 0.11226880550384521, 0.02599909156560898, 0.6109786629676819, 0.9972603917121887, 0.9973419308662415, 0.9961944222450256, 0.23994623124599457, 0.7220003604888916, 0.037469081580638885, 0.9989984035491943, 0.07468121498823166, 0.05161789804697037, 0.162541463971138, 0.13837990164756775, 0.5732881426811218, 0.9982054233551025, 0.998308539390564, 0.20782408118247986, 0.7922007441520691, 0.9986404776573181, 0.9983106851577759, 0.9987362623214722, 0.9995892643928528, 0.13949918746948242, 0.8602449893951416, 0.9945464730262756, 0.09406063705682755, 0.07504837960004807, 0.8305354118347168, 0.9970709085464478], \"Term\": [\"access\", \"access\", \"accord\", \"actually\", \"actually\", \"actually\", \"actually\", \"advance\", \"advance\", \"agency\", \"al\", \"algorithm\", \"amendment\", \"anything\", \"anything\", \"anything\", \"apple\", \"arab\", \"argument\", \"argument\", \"arm\", \"arm\", \"armenian\", \"atheism\", \"atheist\", \"attack\", \"attack\", \"baker\", \"bank\", \"bbs\", \"become\", \"become\", \"become\", \"become\", \"belief\", \"benefit\", \"bike\", \"bit\", \"bit\", \"bit\", \"bit\", \"board\", \"board\", \"board\", \"board\", \"bob\", \"bob\", \"bob\", \"book\", \"book\", \"book\", \"boston\", \"boston\", \"brain\", \"bus\", \"bus\", \"buy\", \"buy\", \"buy\", \"buy\", \"car\", \"car\", \"card\", \"cause\", \"cause\", \"cause\", \"cause\", \"cd\", \"center\", \"center\", \"center\", \"character\", \"charle\", \"charle\", \"chicago\", \"chicago\", \"child\", \"child\", \"child\", \"chip\", \"christ\", \"christian\", \"christianity\", \"church\", \"circuit\", \"citizen\", \"claim\", \"claim\", \"clinton\", \"clipper\", \"close\", \"close\", \"close\", \"close\", \"color\", \"colorado\", \"com\", \"communication\", \"communication\", \"company\", \"company\", \"conclusion\", \"control\", \"control\", \"control\", \"control\", \"controller\", \"copy\", \"copy\", \"copy\", \"country\", \"couple\", \"couple\", \"course\", \"course\", \"court\", \"cpu\", \"crime\", \"cup\", \"datum\", \"datum\", \"dave\", \"dave\", \"dave\", \"de\", \"dealer\", \"dealer\", \"dealer\", \"death\", \"death\", \"design\", \"design\", \"design\", \"develop\", \"development\", \"disk\", \"display\", \"division\", \"division\", \"division\", \"dn\", \"doctrine\", \"dod\", \"don\", \"don\", \"don\", \"drife\", \"drive\", \"drive\", \"drive\", \"drive\", \"driver\", \"driver\", \"drug\", \"drug\", \"dx\", \"early\", \"el\", \"el\", \"email\", \"email\", \"encrypt\", \"encryption\", \"end\", \"end\", \"end\", \"end\", \"end\", \"end\", \"engine\", \"enough\", \"enough\", \"entry\", \"equipment\", \"escrow\", \"evidence\", \"evidence\", \"example\", \"example\", \"example\", \"example\", \"exist\", \"exist\", \"exist\", \"exist\", \"existence\", \"explain\", \"explain\", \"explain\", \"eye\", \"face\", \"face\", \"faith\", \"family\", \"fan\", \"far\", \"far\", \"far\", \"far\", \"file\", \"firearm\", \"food\", \"force\", \"force\", \"force\", \"format\", \"freenet\", \"friend\", \"friend\", \"game\", \"gary\", \"gateway\", \"gm\", \"god\", \"government\", \"government\", \"graphic\", \"greek\", \"group\", \"group\", \"group\", \"group\", \"group\", \"guess\", \"gun\", \"half\", \"hand\", \"hand\", \"hand\", \"happen\", \"happen\", \"happen\", \"hawk\", \"health\", \"health\", \"hear\", \"hear\", \"heaven\", \"hockey\", \"however\", \"however\", \"however\", \"however\", \"however\", \"ibm\", \"ide\", \"information\", \"information\", \"information\", \"install\", \"install\", \"institute\", \"institute\", \"institute\", \"institute\", \"insurance\", \"internet\", \"interpretation\", \"israel\", \"issue\", \"issue\", \"issue\", \"issue\", \"jeff\", \"jesus\", \"jews\", \"jim\", \"jim\", \"john\", \"john\", \"john\", \"john\", \"john\", \"joshua\", \"jumper\", \"just\", \"just\", \"keep\", \"keep\", \"keep\", \"keep\", \"keep\", \"kevin\", \"key\", \"kill\", \"kill\", \"kind\", \"kind\", \"kind\", \"lab\", \"lab\", \"lab\", \"land\", \"launch\", \"law\", \"league\", \"left\", \"left\", \"life\", \"life\", \"life\", \"light\", \"light\", \"list\", \"list\", \"list\", \"list\", \"lk\", \"ll\", \"ll\", \"ll\", \"long\", \"long\", \"long\", \"long\", \"lord\", \"lose\", \"lose\", \"lose\", \"love\", \"love\", \"mac\", \"machine\", \"machine\", \"machine\", \"man\", \"man\", \"man\", \"man\", \"manager\", \"manager\", \"master\", \"max\", \"maybe\", \"maybe\", \"maybe\", \"mb\", \"mb\", \"mc\", \"meaning\", \"member\", \"member\", \"member\", \"memory\", \"message\", \"message\", \"message\", \"message\", \"mhz\", \"mi\", \"mike\", \"mike\", \"mike\", \"mine\", \"mission\", \"mk\", \"mm\", \"mo\", \"mode\", \"mode\", \"model\", \"model\", \"model\", \"model\", \"money\", \"monitor\", \"month\", \"month\", \"moon\", \"morality\", \"motherboard\", \"motif\", \"motorcycle\", \"mouse\", \"mr\", \"mr\", \"mr\", \"ms\", \"mu\", \"murder\", \"muslim\", \"mv\", \"nasa\", \"nature\", \"nec\", \"net\", \"net\", \"newsgroup\", \"next\", \"next\", \"next\", \"next\", \"nhl\", \"nj\", \"nj\", \"nj\", \"nsa\", \"ny\", \"offer\", \"offer\", \"offer\", \"offer\", \"once\", \"once\", \"opinion\", \"opinion\", \"opinion\", \"opinion\", \"opinion\", \"orbit\", \"order\", \"order\", \"order\", \"order\", \"order\", \"os\", \"package\", \"pain\", \"patient\", \"patient\", \"pc\", \"peace\", \"pegasus\", \"pen\", \"period\", \"pgp\", \"phone\", \"picture\", \"picture\", \"picture\", \"pin\", \"pl\", \"pl\", \"place\", \"place\", \"place\", \"place\", \"place\", \"play\", \"player\", \"playoff\", \"policy\", \"population\", \"power\", \"power\", \"power\", \"power\", \"power\", \"president\", \"price\", \"price\", \"price\", \"print\", \"printer\", \"probably\", \"probably\", \"probably\", \"probably\", \"probably\", \"program\", \"program\", \"project\", \"proof\", \"protect\", \"protect\", \"prove\", \"prove\", \"prove\", \"provide\", \"provide\", \"provide\", \"provide\", \"pt\", \"public\", \"public\", \"pull\", \"put\", \"put\", \"put\", \"put\", \"putt\", \"ram\", \"rather\", \"rather\", \"rather\", \"rather\", \"reality\", \"reason\", \"reason\", \"reason\", \"religion\", \"remember\", \"remember\", \"remember\", \"research\", \"research\", \"revelation\", \"ride\", \"rider\", \"ripem\", \"sale\", \"sale\", \"san\", \"saturn\", \"science\", \"science\", \"science\", \"score\", \"screen\", \"scripture\", \"scsi\", \"season\", \"secure\", \"seller\", \"send\", \"send\", \"send\", \"send\", \"send\", \"sense\", \"sense\", \"sense\", \"serial\", \"series\", \"series\", \"server\", \"service\", \"service\", \"session\", \"set\", \"set\", \"set\", \"set\", \"set\", \"sex\", \"show\", \"show\", \"show\", \"show\", \"show\", \"sin\", \"sit\", \"society\", \"software\", \"software\", \"soldier\", \"source\", \"source\", \"source\", \"source\", \"space\", \"speed\", \"speed\", \"speed\", \"sphere\", \"spirit\", \"st\", \"st\", \"st\", \"steal\", \"sunday\", \"support\", \"support\", \"support\", \"support\", \"ta\", \"talk\", \"talk\", \"team\", \"technology\", \"telnet\", \"terrorist\", \"test\", \"test\", \"therefore\", \"therefore\", \"thought\", \"thought\", \"thought\", \"tin\", \"too\", \"too\", \"toronto\", \"toronto\", \"trade\", \"treatment\", \"trial\", \"truth\", \"turk\", \"turkish\", \"turn\", \"understand\", \"understand\", \"understand\", \"understand\", \"unite\", \"universe\", \"ut\", \"version\", \"version\", \"version\", \"video\", \"view\", \"view\", \"view\", \"view\", \"view\", \"village\", \"visit\", \"vs\", \"vs\", \"war\", \"weapon\", \"win\", \"window\", \"wing\", \"wing\", \"winning\", \"word\", \"word\", \"word\", \"ww\"]}, \"R\": 30, \"lambda.step\": 0.01, \"plot.opts\": {\"xlab\": \"PC1\", \"ylab\": \"PC2\"}, \"topic.order\": [5, 1, 3, 6, 7, 4, 2]};\n",
       "\n",
       "function LDAvis_load_lib(url, callback){\n",
       "  var s = document.createElement('script');\n",
       "  s.src = url;\n",
       "  s.async = true;\n",
       "  s.onreadystatechange = s.onload = callback;\n",
       "  s.onerror = function(){console.warn(\"failed to load library \" + url);};\n",
       "  document.getElementsByTagName(\"head\")[0].appendChild(s);\n",
       "}\n",
       "\n",
       "if(typeof(LDAvis) !== \"undefined\"){\n",
       "   // already loaded: just create the visualization\n",
       "   !function(LDAvis){\n",
       "       new LDAvis(\"#\" + \"ldavis_el284424525353590724144615498\", ldavis_el284424525353590724144615498_data);\n",
       "   }(LDAvis);\n",
       "}else if(typeof define === \"function\" && define.amd){\n",
       "   // require.js is available: use it to load d3/LDAvis\n",
       "   require.config({paths: {d3: \"https://cdnjs.cloudflare.com/ajax/libs/d3/3.5.5/d3.min\"}});\n",
       "   require([\"d3\"], function(d3){\n",
       "      window.d3 = d3;\n",
       "      LDAvis_load_lib(\"https://cdn.rawgit.com/bmabey/pyLDAvis/files/ldavis.v1.0.0.js\", function(){\n",
       "        new LDAvis(\"#\" + \"ldavis_el284424525353590724144615498\", ldavis_el284424525353590724144615498_data);\n",
       "      });\n",
       "    });\n",
       "}else{\n",
       "    // require.js not available: dynamically load d3 & LDAvis\n",
       "    LDAvis_load_lib(\"https://cdnjs.cloudflare.com/ajax/libs/d3/3.5.5/d3.min.js\", function(){\n",
       "         LDAvis_load_lib(\"https://cdn.rawgit.com/bmabey/pyLDAvis/files/ldavis.v1.0.0.js\", function(){\n",
       "                 new LDAvis(\"#\" + \"ldavis_el284424525353590724144615498\", ldavis_el284424525353590724144615498_data);\n",
       "            })\n",
       "         });\n",
       "}\n",
       "</script>"
      ],
      "text/plain": [
       "PreparedData(topic_coordinates=            Freq  cluster  topics         x         y\n",
       "topic                                                \n",
       "4      25.038853        1       1 -0.147216 -0.076617\n",
       "0      18.568789        1       2 -0.041584  0.176185\n",
       "2      13.862036        1       3  0.061423  0.269415\n",
       "5      13.341962        1       4 -0.161909 -0.062130\n",
       "6      12.744798        1       5 -0.215716 -0.017447\n",
       "3       9.588062        1       6  0.131761 -0.305179\n",
       "1       6.855496        1       7  0.373241  0.015773, topic_info=     Category         Freq         Term        Total  loglift  logprob\n",
       "term                                                                  \n",
       "475   Default  4052.000000          god  4052.000000  30.0000  30.0000\n",
       "1690  Default  1746.000000          max  1746.000000  29.0000  29.0000\n",
       "4     Default  1734.000000          car  1734.000000  28.0000  28.0000\n",
       "649   Default  1887.000000         team  1887.000000  27.0000  27.0000\n",
       "994   Default  2230.000000       window  2230.000000  26.0000  26.0000\n",
       "2178  Default  2121.000000     evidence  2121.000000  25.0000  25.0000\n",
       "1148  Default  1793.000000         game  1793.000000  24.0000  24.0000\n",
       "292   Default  2061.000000         file  2061.000000  23.0000  23.0000\n",
       "858   Default  2009.000000          law  2009.000000  22.0000  22.0000\n",
       "321   Default  2744.000000        drive  2744.000000  21.0000  21.0000\n",
       "30    Default  1874.000000         card  1874.000000  20.0000  20.0000\n",
       "235   Default  1777.000000   government  1777.000000  19.0000  19.0000\n",
       "896   Default  2402.000000       reason  2402.000000  18.0000  18.0000\n",
       "1303  Default  1613.000000       israel  1613.000000  17.0000  17.0000\n",
       "1427  Default  1607.000000          gun  1607.000000  16.0000  16.0000\n",
       "112   Default  1348.000000         play  1348.000000  15.0000  15.0000\n",
       "643   Default  1851.000000        space  1851.000000  14.0000  14.0000\n",
       "138   Default  1683.000000         chip  1683.000000  13.0000  13.0000\n",
       "764   Default  2097.000000      program  2097.000000  12.0000  12.0000\n",
       "799   Default  1501.000000        claim  1501.000000  11.0000  11.0000\n",
       "488   Default  1177.000000        jesus  1177.000000  10.0000  10.0000\n",
       "403   Default  1410.000000   technology  1410.000000   9.0000   9.0000\n",
       "159   Default  1311.000000        sense  1311.000000   8.0000   8.0000\n",
       "2590  Default   837.000000        video   837.000000   7.0000   7.0000\n",
       "468   Default  1049.000000        faith  1049.000000   6.0000   6.0000\n",
       "1388  Default   913.000000     internet   913.000000   5.0000   5.0000\n",
       "99    Default  1064.000000          mac  1064.000000   4.0000   4.0000\n",
       "823   Default  1316.000000       driver  1316.000000   3.0000   3.0000\n",
       "148   Default  1705.000000  information  1705.000000   2.0000   2.0000\n",
       "196   Default  1407.000000     software  1407.000000   1.0000   1.0000\n",
       "...       ...          ...          ...          ...      ...      ...\n",
       "3567   Topic7   343.230927       seller   344.200287   2.6773  -5.2857\n",
       "4627   Topic7   269.122467           ut   270.027618   2.6768  -5.5289\n",
       "2847   Topic7   253.899872   motorcycle   254.797897   2.6766  -5.5871\n",
       "5172   Topic7   251.675919         hawk   252.580048   2.6765  -5.5959\n",
       "2031   Topic7   249.477173           mu   250.374863   2.6765  -5.6047\n",
       "5333   Topic7   249.032516           mc   249.929886   2.6765  -5.6065\n",
       "1474   Topic7   247.175415          nec   248.075104   2.6765  -5.6140\n",
       "875    Topic7   245.055908           mo   245.953690   2.6765  -5.6226\n",
       "909    Topic7   243.009125       saturn   243.909866   2.6764  -5.6310\n",
       "5934   Topic7   247.806335           ww   248.728546   2.6764  -5.6114\n",
       "3437   Topic7   241.235870           mk   242.137314   2.6764  -5.6383\n",
       "3442   Topic7   233.725540           mv   234.623047   2.6763  -5.6699\n",
       "1707   Topic7   227.786331      benefit   228.696548   2.6761  -5.6957\n",
       "3432   Topic7   225.684357           lk   226.587784   2.6761  -5.7049\n",
       "1700   Topic7   225.956818       sunday   226.865952   2.6761  -5.7037\n",
       "4      Topic7  1723.233887          car  1734.619629   2.6735  -3.6721\n",
       "2864   Topic7   353.016663           el   390.365143   2.5796  -5.2576\n",
       "2127   Topic7   633.076782         test   874.831116   2.3567  -4.6735\n",
       "1476   Topic7   274.491302           nj   294.631409   2.6093  -5.5092\n",
       "1641   Topic7   374.736267      manager   480.443542   2.4316  -5.1979\n",
       "815    Topic7   336.907898       dealer   420.194794   2.4592  -5.3043\n",
       "1675   Topic7   273.987854       charle   306.809448   2.5670  -5.5110\n",
       "321    Topic7   666.209290        drive  2744.576660   1.2643  -4.6225\n",
       "376    Topic7   401.566803          buy  1431.139160   1.4093  -5.1287\n",
       "61     Topic7   327.562927        speed   730.477234   1.8781  -5.3324\n",
       "2765   Topic7   298.578766      picture   546.696045   2.0753  -5.4250\n",
       "153    Topic7   295.298096           pl   693.658936   1.8261  -5.4361\n",
       "115    Topic7   315.512054        price  1117.619873   1.4154  -5.3699\n",
       "14     Topic7   294.689087        model   789.791260   1.6943  -5.4382\n",
       "2182   Topic7   274.143066           mr  1330.391113   1.1005  -5.5104\n",
       "\n",
       "[385 rows x 6 columns], token_table=      Topic      Freq        Term\n",
       "term                             \n",
       "68        2  0.735193      access\n",
       "68        3  0.264243      access\n",
       "2942      1  0.997480      accord\n",
       "69        1  0.796754    actually\n",
       "69        2  0.016563    actually\n",
       "69        3  0.047945    actually\n",
       "69        5  0.137732    actually\n",
       "70        1  0.109385     advance\n",
       "70        2  0.888583     advance\n",
       "1397      2  0.997983      agency\n",
       "1146      1  0.997550          al\n",
       "2751      2  0.997953   algorithm\n",
       "208       4  0.998126   amendment\n",
       "441       1  0.728316    anything\n",
       "441       3  0.028261    anything\n",
       "441       5  0.243164    anything\n",
       "308       3  0.998458       apple\n",
       "1278      4  0.997494        arab\n",
       "210       4  0.051726    argument\n",
       "210       5  0.946984    argument\n",
       "1493      1  0.082726         arm\n",
       "1493      4  0.916347         arm\n",
       "1792      1  0.997581    armenian\n",
       "2151      5  0.998727     atheism\n",
       "699       5  0.998359     atheist\n",
       "1157      1  0.098271      attack\n",
       "1157      4  0.900378      attack\n",
       "167       6  0.996685       baker\n",
       "2504      2  0.997758        bank\n",
       "2505      2  0.997204         bbs\n",
       "...     ...       ...         ...\n",
       "198       2  0.112269  understand\n",
       "198       4  0.025999  understand\n",
       "198       5  0.610979  understand\n",
       "2883      4  0.997260       unite\n",
       "2105      5  0.997342    universe\n",
       "4627      7  0.996194          ut\n",
       "163       2  0.239946     version\n",
       "163       3  0.722000     version\n",
       "163       5  0.037469     version\n",
       "2590      7  0.998998       video\n",
       "939       1  0.074681        view\n",
       "939       2  0.051618        view\n",
       "939       3  0.162541        view\n",
       "939       4  0.138380        view\n",
       "939       5  0.573288        view\n",
       "1857      4  0.998205     village\n",
       "659       1  0.998309       visit\n",
       "362       3  0.207824          vs\n",
       "362       6  0.792201          vs\n",
       "733       4  0.998640         war\n",
       "285       4  0.998311      weapon\n",
       "774       1  0.998736         win\n",
       "994       3  0.999589      window\n",
       "662       4  0.139499        wing\n",
       "662       6  0.860245        wing\n",
       "4121      6  0.994546     winning\n",
       "775       1  0.094061        word\n",
       "775       3  0.075048        word\n",
       "775       5  0.830535        word\n",
       "5934      7  0.997071          ww\n",
       "\n",
       "[622 rows x 3 columns], R=30, lambda_step=0.01, plot_opts={'xlab': 'PC1', 'ylab': 'PC2'}, topic_order=[5, 1, 3, 6, 7, 4, 2])"
      ]
     },
     "execution_count": 33,
     "metadata": {},
     "output_type": "execute_result"
    }
   ],
   "source": [
    "pyLDAvis.enable_notebook()\n",
    "vis = pyLDAvis.gensim.prepare(lda_model, bow_corpus, id2word)\n",
    "vis"
   ]
  },
  {
   "cell_type": "code",
   "execution_count": null,
   "metadata": {
    "collapsed": true
   },
   "outputs": [],
   "source": []
  }
 ],
 "metadata": {
  "kernelspec": {
   "display_name": "Python 3",
   "language": "python",
   "name": "python3"
  },
  "language_info": {
   "codemirror_mode": {
    "name": "ipython",
    "version": 3
   },
   "file_extension": ".py",
   "mimetype": "text/x-python",
   "name": "python",
   "nbconvert_exporter": "python",
   "pygments_lexer": "ipython3",
   "version": "3.6.3"
  }
 },
 "nbformat": 4,
 "nbformat_minor": 2
}
